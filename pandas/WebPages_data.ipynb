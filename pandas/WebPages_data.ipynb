{
 "cells": [
  {
   "cell_type": "code",
   "execution_count": 3,
   "metadata": {},
   "outputs": [],
   "source": [
    "import pandas as pd"
   ]
  },
  {
   "cell_type": "markdown",
   "metadata": {},
   "source": [
    "# Series"
   ]
  },
  {
   "cell_type": "code",
   "execution_count": 4,
   "metadata": {
    "scrolled": true
   },
   "outputs": [
    {
     "data": {
      "text/plain": [
       "0    100\n",
       "1    200\n",
       "2    300\n",
       "dtype: int64"
      ]
     },
     "execution_count": 4,
     "metadata": {},
     "output_type": "execute_result"
    }
   ],
   "source": [
    "series_test = pd.Series([100,200,300])\n",
    "series_test\n"
   ]
  },
  {
   "cell_type": "code",
   "execution_count": 5,
   "metadata": {},
   "outputs": [
    {
     "data": {
      "text/plain": [
       "1999    48\n",
       "2000    65\n",
       "2001    89\n",
       "dtype: int64"
      ]
     },
     "execution_count": 5,
     "metadata": {},
     "output_type": "execute_result"
    }
   ],
   "source": [
    "series_test2 = pd.Series({1999:48, \n",
    "                          2000:65, \n",
    "                          2001: 89})\n",
    "series_test2"
   ]
  },
  {
   "cell_type": "markdown",
   "metadata": {},
   "source": [
    "# Data Frames"
   ]
  },
  {
   "cell_type": "code",
   "execution_count": 6,
   "metadata": {},
   "outputs": [
    {
     "data": {
      "text/html": [
       "<div>\n",
       "<style scoped>\n",
       "    .dataframe tbody tr th:only-of-type {\n",
       "        vertical-align: middle;\n",
       "    }\n",
       "\n",
       "    .dataframe tbody tr th {\n",
       "        vertical-align: top;\n",
       "    }\n",
       "\n",
       "    .dataframe thead th {\n",
       "        text-align: right;\n",
       "    }\n",
       "</style>\n",
       "<table border=\"1\" class=\"dataframe\">\n",
       "  <thead>\n",
       "    <tr style=\"text-align: right;\">\n",
       "      <th></th>\n",
       "      <th>1999</th>\n",
       "      <th>2000</th>\n",
       "      <th>2001</th>\n",
       "    </tr>\n",
       "  </thead>\n",
       "  <tbody>\n",
       "    <tr>\n",
       "      <th>0</th>\n",
       "      <td>74</td>\n",
       "      <td>34</td>\n",
       "      <td>23</td>\n",
       "    </tr>\n",
       "    <tr>\n",
       "      <th>1</th>\n",
       "      <td>38</td>\n",
       "      <td>32</td>\n",
       "      <td>29</td>\n",
       "    </tr>\n",
       "    <tr>\n",
       "      <th>2</th>\n",
       "      <td>39</td>\n",
       "      <td>32</td>\n",
       "      <td>24</td>\n",
       "    </tr>\n",
       "  </tbody>\n",
       "</table>\n",
       "</div>"
      ],
      "text/plain": [
       "   1999  2000  2001\n",
       "0    74    34    23\n",
       "1    38    32    29\n",
       "2    39    32    24"
      ]
     },
     "execution_count": 6,
     "metadata": {},
     "output_type": "execute_result"
    }
   ],
   "source": [
    "df_test = pd.DataFrame({1999:[74,38,39],\n",
    "                       2000:[34,32,32],\n",
    "                       2001:[23,29,24]})\n",
    "df_test"
   ]
  },
  {
   "cell_type": "code",
   "execution_count": 7,
   "metadata": {},
   "outputs": [
    {
     "data": {
      "text/html": [
       "<div>\n",
       "<style scoped>\n",
       "    .dataframe tbody tr th:only-of-type {\n",
       "        vertical-align: middle;\n",
       "    }\n",
       "\n",
       "    .dataframe tbody tr th {\n",
       "        vertical-align: top;\n",
       "    }\n",
       "\n",
       "    .dataframe thead th {\n",
       "        text-align: right;\n",
       "    }\n",
       "</style>\n",
       "<table border=\"1\" class=\"dataframe\">\n",
       "  <thead>\n",
       "    <tr style=\"text-align: right;\">\n",
       "      <th></th>\n",
       "      <th>1999</th>\n",
       "      <th>2000</th>\n",
       "      <th>2001</th>\n",
       "    </tr>\n",
       "  </thead>\n",
       "  <tbody>\n",
       "    <tr>\n",
       "      <th>0</th>\n",
       "      <td>74</td>\n",
       "      <td>38</td>\n",
       "      <td>39</td>\n",
       "    </tr>\n",
       "    <tr>\n",
       "      <th>1</th>\n",
       "      <td>34</td>\n",
       "      <td>32</td>\n",
       "      <td>32</td>\n",
       "    </tr>\n",
       "    <tr>\n",
       "      <th>2</th>\n",
       "      <td>23</td>\n",
       "      <td>29</td>\n",
       "      <td>24</td>\n",
       "    </tr>\n",
       "  </tbody>\n",
       "</table>\n",
       "</div>"
      ],
      "text/plain": [
       "   1999  2000  2001\n",
       "0    74    38    39\n",
       "1    34    32    32\n",
       "2    23    29    24"
      ]
     },
     "execution_count": 7,
     "metadata": {},
     "output_type": "execute_result"
    }
   ],
   "source": [
    "df_test = pd.DataFrame([[74,38,39],\n",
    "                        [34,32,32],\n",
    "                        [23,29,24] ], columns = [1999,2000,2001])\n",
    "df_test"
   ]
  },
  {
   "cell_type": "markdown",
   "metadata": {},
   "source": [
    "# Reading csv file"
   ]
  },
  {
   "cell_type": "code",
   "execution_count": 8,
   "metadata": {},
   "outputs": [
    {
     "data": {
      "text/html": [
       "<div>\n",
       "<style scoped>\n",
       "    .dataframe tbody tr th:only-of-type {\n",
       "        vertical-align: middle;\n",
       "    }\n",
       "\n",
       "    .dataframe tbody tr th {\n",
       "        vertical-align: top;\n",
       "    }\n",
       "\n",
       "    .dataframe thead th {\n",
       "        text-align: right;\n",
       "    }\n",
       "</style>\n",
       "<table border=\"1\" class=\"dataframe\">\n",
       "  <thead>\n",
       "    <tr style=\"text-align: right;\">\n",
       "      <th></th>\n",
       "      <th>body</th>\n",
       "      <th>title</th>\n",
       "      <th>url</th>\n",
       "    </tr>\n",
       "  </thead>\n",
       "  <tbody>\n",
       "    <tr>\n",
       "      <th>0</th>\n",
       "      <td>\\n\\nSe viven tiempos inéditos, encerrados en c...</td>\n",
       "      <td>Cómo manejar su dinero en tiempos de coronavirus</td>\n",
       "      <td>https://www.eluniversal.com.mx/cartera/como-ma...</td>\n",
       "    </tr>\n",
       "    <tr>\n",
       "      <th>1</th>\n",
       "      <td>\\n\\n\\n\\n    googletag.cmd.push(function() {\\n ...</td>\n",
       "      <td>Feria del Caballo Texcoco 2020: Nuevas fechas ...</td>\n",
       "      <td>http://www.unionedomex.mx/articulo/2020/04/02/...</td>\n",
       "    </tr>\n",
       "    <tr>\n",
       "      <th>2</th>\n",
       "      <td>\\n\\n\\n\\n    googletag.cmd.push(function() {\\n ...</td>\n",
       "      <td>Jacky Bracamontes vacaciona y desafía al coron...</td>\n",
       "      <td>http://www.unionjalisco.mx/articulo/2020/03/19...</td>\n",
       "    </tr>\n",
       "    <tr>\n",
       "      <th>3</th>\n",
       "      <td>\\n\\nHoy, mientras estás en casa por la conting...</td>\n",
       "      <td>Este domingo arranca nuevo ciclo del Horario d...</td>\n",
       "      <td>https://www.eluniversal.com.mx/cartera/este-do...</td>\n",
       "    </tr>\n",
       "    <tr>\n",
       "      <th>4</th>\n",
       "      <td>\\nEcatepec, Méx.- Con muchas flores y globos, ...</td>\n",
       "      <td>Muere en accidente niño que cuidaba a su mamá,...</td>\n",
       "      <td>https://www.eluniversal.com.mx/metropoli/edome...</td>\n",
       "    </tr>\n",
       "    <tr>\n",
       "      <th>...</th>\n",
       "      <td>...</td>\n",
       "      <td>...</td>\n",
       "      <td>...</td>\n",
       "    </tr>\n",
       "    <tr>\n",
       "      <th>146</th>\n",
       "      <td>\\n\\nEn la subida y en la vida las bicicletas y...</td>\n",
       "      <td>Ante la adversidad, la solidaridad</td>\n",
       "      <td>https://www.eluniversal.com.mx/opinion/jorge-c...</td>\n",
       "    </tr>\n",
       "    <tr>\n",
       "      <th>147</th>\n",
       "      <td>\\nLa Policía Cibernética de la Secretaría de S...</td>\n",
       "      <td>Policía Cibernética alerta por cuenta de corre...</td>\n",
       "      <td>https://sanluis.eluniversal.com.mx/seguridad/0...</td>\n",
       "    </tr>\n",
       "    <tr>\n",
       "      <th>148</th>\n",
       "      <td>0 % PULSO SOCIAL0 La recomendación más frecue...</td>\n",
       "      <td>NaN</td>\n",
       "      <td>https://de10.com.mx/vivir-bien/por-que-el-jabo...</td>\n",
       "    </tr>\n",
       "    <tr>\n",
       "      <th>149</th>\n",
       "      <td>\\nTodas las plazas comerciales y cerca de 80% ...</td>\n",
       "      <td>Casi 80% de los comercios permanecen cerrados</td>\n",
       "      <td>https://www.eluniversalqueretaro.mx/portada/ca...</td>\n",
       "    </tr>\n",
       "    <tr>\n",
       "      <th>150</th>\n",
       "      <td>\\nSi tienes una moto lo más probable es que te...</td>\n",
       "      <td>Cómo darle mantenimiento a tu moto durante la ...</td>\n",
       "      <td>https://www.eluniversal.com.mx/autopistas/cuar...</td>\n",
       "    </tr>\n",
       "  </tbody>\n",
       "</table>\n",
       "<p>151 rows × 3 columns</p>\n",
       "</div>"
      ],
      "text/plain": [
       "                                                  body  \\\n",
       "0    \\n\\nSe viven tiempos inéditos, encerrados en c...   \n",
       "1    \\n\\n\\n\\n    googletag.cmd.push(function() {\\n ...   \n",
       "2    \\n\\n\\n\\n    googletag.cmd.push(function() {\\n ...   \n",
       "3    \\n\\nHoy, mientras estás en casa por la conting...   \n",
       "4    \\nEcatepec, Méx.- Con muchas flores y globos, ...   \n",
       "..                                                 ...   \n",
       "146  \\n\\nEn la subida y en la vida las bicicletas y...   \n",
       "147  \\nLa Policía Cibernética de la Secretaría de S...   \n",
       "148   0 % PULSO SOCIAL0 La recomendación más frecue...   \n",
       "149  \\nTodas las plazas comerciales y cerca de 80% ...   \n",
       "150  \\nSi tienes una moto lo más probable es que te...   \n",
       "\n",
       "                                                 title  \\\n",
       "0     Cómo manejar su dinero en tiempos de coronavirus   \n",
       "1    Feria del Caballo Texcoco 2020: Nuevas fechas ...   \n",
       "2    Jacky Bracamontes vacaciona y desafía al coron...   \n",
       "3    Este domingo arranca nuevo ciclo del Horario d...   \n",
       "4    Muere en accidente niño que cuidaba a su mamá,...   \n",
       "..                                                 ...   \n",
       "146                 Ante la adversidad, la solidaridad   \n",
       "147  Policía Cibernética alerta por cuenta de corre...   \n",
       "148                                                NaN   \n",
       "149      Casi 80% de los comercios permanecen cerrados   \n",
       "150  Cómo darle mantenimiento a tu moto durante la ...   \n",
       "\n",
       "                                                   url  \n",
       "0    https://www.eluniversal.com.mx/cartera/como-ma...  \n",
       "1    http://www.unionedomex.mx/articulo/2020/04/02/...  \n",
       "2    http://www.unionjalisco.mx/articulo/2020/03/19...  \n",
       "3    https://www.eluniversal.com.mx/cartera/este-do...  \n",
       "4    https://www.eluniversal.com.mx/metropoli/edome...  \n",
       "..                                                 ...  \n",
       "146  https://www.eluniversal.com.mx/opinion/jorge-c...  \n",
       "147  https://sanluis.eluniversal.com.mx/seguridad/0...  \n",
       "148  https://de10.com.mx/vivir-bien/por-que-el-jabo...  \n",
       "149  https://www.eluniversalqueretaro.mx/portada/ca...  \n",
       "150  https://www.eluniversal.com.mx/autopistas/cuar...  \n",
       "\n",
       "[151 rows x 3 columns]"
      ]
     },
     "execution_count": 8,
     "metadata": {},
     "output_type": "execute_result"
    }
   ],
   "source": [
    "pd.options.display.max_rows = 10\n",
    "el_pais = pd.read_csv('./elpais_2020_04_04_articles.csv')\n",
    "el_pais\n",
    "el_universal = pd.read_csv('./eluniversal_2020_04_04_articles.csv')\n",
    "el_universal"
   ]
  },
  {
   "cell_type": "markdown",
   "metadata": {},
   "source": [
    "# Index and selection"
   ]
  },
  {
   "cell_type": "code",
   "execution_count": 9,
   "metadata": {},
   "outputs": [
    {
     "data": {
      "text/plain": [
       "0     Coronavirus en América: últimas noticias del C...\n",
       "1     La Iglesia católica de Colombia suspende a 19 ...\n",
       "2     Bill Withers, la leyenda del ‘soul’ que prefir...\n",
       "3     El PP y Ciudadanos votarán a favor de la nueva...\n",
       "4     “Los préstamos europeos deben evitar el estigm...\n",
       "                            ...                        \n",
       "48    Guaidó desafía al chavismo al rechazar compare...\n",
       "49         Mil y una formas de burlar el confinamiento \n",
       "50                    Privilegiados, pero comprometidos\n",
       "51    Últimas noticias del coronavirus, en directo |...\n",
       "52    Francia investiga como acto terrorista un ataq...\n",
       "Name: title, Length: 53, dtype: object"
      ]
     },
     "execution_count": 9,
     "metadata": {},
     "output_type": "execute_result"
    }
   ],
   "source": [
    "#Dictionary like\n",
    "el_pais['title']"
   ]
  },
  {
   "cell_type": "code",
   "execution_count": 10,
   "metadata": {},
   "outputs": [
    {
     "data": {
      "text/html": [
       "<div>\n",
       "<style scoped>\n",
       "    .dataframe tbody tr th:only-of-type {\n",
       "        vertical-align: middle;\n",
       "    }\n",
       "\n",
       "    .dataframe tbody tr th {\n",
       "        vertical-align: top;\n",
       "    }\n",
       "\n",
       "    .dataframe thead th {\n",
       "        text-align: right;\n",
       "    }\n",
       "</style>\n",
       "<table border=\"1\" class=\"dataframe\">\n",
       "  <thead>\n",
       "    <tr style=\"text-align: right;\">\n",
       "      <th></th>\n",
       "      <th>title</th>\n",
       "      <th>url</th>\n",
       "    </tr>\n",
       "  </thead>\n",
       "  <tbody>\n",
       "    <tr>\n",
       "      <th>0</th>\n",
       "      <td>Coronavirus en América: últimas noticias del C...</td>\n",
       "      <td>https://www.elpais.com/america/sociedad/2020-0...</td>\n",
       "    </tr>\n",
       "    <tr>\n",
       "      <th>1</th>\n",
       "      <td>La Iglesia católica de Colombia suspende a 19 ...</td>\n",
       "      <td>https://www.elpais.com/sociedad/2020-04-04/la-...</td>\n",
       "    </tr>\n",
       "    <tr>\n",
       "      <th>2</th>\n",
       "      <td>Bill Withers, la leyenda del ‘soul’ que prefir...</td>\n",
       "      <td>https://www.elpais.com/cultura/2020-04-03/muer...</td>\n",
       "    </tr>\n",
       "    <tr>\n",
       "      <th>3</th>\n",
       "      <td>El PP y Ciudadanos votarán a favor de la nueva...</td>\n",
       "      <td>https://www.elpais.com/espana/2020-04-04/el-pp...</td>\n",
       "    </tr>\n",
       "    <tr>\n",
       "      <th>4</th>\n",
       "      <td>“Los préstamos europeos deben evitar el estigm...</td>\n",
       "      <td>https://www.elpais.com/economia/2020-04-04/los...</td>\n",
       "    </tr>\n",
       "    <tr>\n",
       "      <th>...</th>\n",
       "      <td>...</td>\n",
       "      <td>...</td>\n",
       "    </tr>\n",
       "    <tr>\n",
       "      <th>48</th>\n",
       "      <td>Guaidó desafía al chavismo al rechazar compare...</td>\n",
       "      <td>https://www.elpais.com/internacional/2020-04-0...</td>\n",
       "    </tr>\n",
       "    <tr>\n",
       "      <th>49</th>\n",
       "      <td>Mil y una formas de burlar el confinamiento</td>\n",
       "      <td>https://www.elpais.com/espana/2020-04-04/mil-y...</td>\n",
       "    </tr>\n",
       "    <tr>\n",
       "      <th>50</th>\n",
       "      <td>Privilegiados, pero comprometidos</td>\n",
       "      <td>https://www.elpais.com/deportes/2020-04-03/pri...</td>\n",
       "    </tr>\n",
       "    <tr>\n",
       "      <th>51</th>\n",
       "      <td>Últimas noticias del coronavirus, en directo |...</td>\n",
       "      <td>https://www.elpais.com/sociedad/2020-04-04/ult...</td>\n",
       "    </tr>\n",
       "    <tr>\n",
       "      <th>52</th>\n",
       "      <td>Francia investiga como acto terrorista un ataq...</td>\n",
       "      <td>https://www.elpais.com/internacional/2020-04-0...</td>\n",
       "    </tr>\n",
       "  </tbody>\n",
       "</table>\n",
       "<p>53 rows × 2 columns</p>\n",
       "</div>"
      ],
      "text/plain": [
       "                                                title  \\\n",
       "0   Coronavirus en América: últimas noticias del C...   \n",
       "1   La Iglesia católica de Colombia suspende a 19 ...   \n",
       "2   Bill Withers, la leyenda del ‘soul’ que prefir...   \n",
       "3   El PP y Ciudadanos votarán a favor de la nueva...   \n",
       "4   “Los préstamos europeos deben evitar el estigm...   \n",
       "..                                                ...   \n",
       "48  Guaidó desafía al chavismo al rechazar compare...   \n",
       "49       Mil y una formas de burlar el confinamiento    \n",
       "50                  Privilegiados, pero comprometidos   \n",
       "51  Últimas noticias del coronavirus, en directo |...   \n",
       "52  Francia investiga como acto terrorista un ataq...   \n",
       "\n",
       "                                                  url  \n",
       "0   https://www.elpais.com/america/sociedad/2020-0...  \n",
       "1   https://www.elpais.com/sociedad/2020-04-04/la-...  \n",
       "2   https://www.elpais.com/cultura/2020-04-03/muer...  \n",
       "3   https://www.elpais.com/espana/2020-04-04/el-pp...  \n",
       "4   https://www.elpais.com/economia/2020-04-04/los...  \n",
       "..                                                ...  \n",
       "48  https://www.elpais.com/internacional/2020-04-0...  \n",
       "49  https://www.elpais.com/espana/2020-04-04/mil-y...  \n",
       "50  https://www.elpais.com/deportes/2020-04-03/pri...  \n",
       "51  https://www.elpais.com/sociedad/2020-04-04/ult...  \n",
       "52  https://www.elpais.com/internacional/2020-04-0...  \n",
       "\n",
       "[53 rows x 2 columns]"
      ]
     },
     "execution_count": 10,
     "metadata": {},
     "output_type": "execute_result"
    }
   ],
   "source": [
    "el_pais[['title', 'url']]"
   ]
  },
  {
   "cell_type": "code",
   "execution_count": 11,
   "metadata": {},
   "outputs": [
    {
     "data": {
      "text/html": [
       "<div>\n",
       "<style scoped>\n",
       "    .dataframe tbody tr th:only-of-type {\n",
       "        vertical-align: middle;\n",
       "    }\n",
       "\n",
       "    .dataframe tbody tr th {\n",
       "        vertical-align: top;\n",
       "    }\n",
       "\n",
       "    .dataframe thead th {\n",
       "        text-align: right;\n",
       "    }\n",
       "</style>\n",
       "<table border=\"1\" class=\"dataframe\">\n",
       "  <thead>\n",
       "    <tr style=\"text-align: right;\">\n",
       "      <th></th>\n",
       "      <th>body</th>\n",
       "      <th>title</th>\n",
       "      <th>url</th>\n",
       "    </tr>\n",
       "  </thead>\n",
       "  <tbody>\n",
       "    <tr>\n",
       "      <th>10</th>\n",
       "      <td>La Fundación Lágrimas y Favores, impulsada por...</td>\n",
       "      <td>El confinamiento solidario y solitario de Anto...</td>\n",
       "      <td>https://www.elpais.com/gente/2020-04-03/el-con...</td>\n",
       "    </tr>\n",
       "    <tr>\n",
       "      <th>11</th>\n",
       "      <td>Un restaurante del Mercado Medellín en Ciudad ...</td>\n",
       "      <td>Los empresarios mexicanos reclaman al Gobierno...</td>\n",
       "      <td>https://www.elpais.com/economia/2020-04-02/los...</td>\n",
       "    </tr>\n",
       "    <tr>\n",
       "      <th>12</th>\n",
       "      <td>El cantautor Luis Eduardo Aute ha fallecido a ...</td>\n",
       "      <td>Muere Luis Eduardo Aute, patrimonio de la canc...</td>\n",
       "      <td>https://www.elpais.com/cultura/2020-04-04/muer...</td>\n",
       "    </tr>\n",
       "    <tr>\n",
       "      <th>13</th>\n",
       "      <td>Isabel Preysler solo ha estado sin pareja unos...</td>\n",
       "      <td>Isabel Preysler, tres bodas y un lustro de amo...</td>\n",
       "      <td>https://www.elpais.com/gente/2020-04-03/isabel...</td>\n",
       "    </tr>\n",
       "    <tr>\n",
       "      <th>14</th>\n",
       "      <td>El miércoles pasado, unos vecinos de Vitoria s...</td>\n",
       "      <td>La línea invisible de ETA</td>\n",
       "      <td>https://www.elpais.com/television/2020-04-03/l...</td>\n",
       "    </tr>\n",
       "  </tbody>\n",
       "</table>\n",
       "</div>"
      ],
      "text/plain": [
       "                                                 body  \\\n",
       "10  La Fundación Lágrimas y Favores, impulsada por...   \n",
       "11  Un restaurante del Mercado Medellín en Ciudad ...   \n",
       "12  El cantautor Luis Eduardo Aute ha fallecido a ...   \n",
       "13  Isabel Preysler solo ha estado sin pareja unos...   \n",
       "14  El miércoles pasado, unos vecinos de Vitoria s...   \n",
       "\n",
       "                                                title  \\\n",
       "10  El confinamiento solidario y solitario de Anto...   \n",
       "11  Los empresarios mexicanos reclaman al Gobierno...   \n",
       "12  Muere Luis Eduardo Aute, patrimonio de la canc...   \n",
       "13  Isabel Preysler, tres bodas y un lustro de amo...   \n",
       "14                          La línea invisible de ETA   \n",
       "\n",
       "                                                  url  \n",
       "10  https://www.elpais.com/gente/2020-04-03/el-con...  \n",
       "11  https://www.elpais.com/economia/2020-04-02/los...  \n",
       "12  https://www.elpais.com/cultura/2020-04-04/muer...  \n",
       "13  https://www.elpais.com/gente/2020-04-03/isabel...  \n",
       "14  https://www.elpais.com/television/2020-04-03/l...  "
      ]
     },
     "execution_count": 11,
     "metadata": {},
     "output_type": "execute_result"
    }
   ],
   "source": [
    "#Numpy like\n",
    "el_pais.iloc[10:15]"
   ]
  },
  {
   "cell_type": "code",
   "execution_count": 12,
   "metadata": {},
   "outputs": [
    {
     "data": {
      "text/plain": [
       "'Uruguay avanza en la fabricación de sus propios test de coronavirus '"
      ]
     },
     "execution_count": 12,
     "metadata": {},
     "output_type": "execute_result"
    }
   ],
   "source": [
    "el_pais.iloc[34]['title']"
   ]
  },
  {
   "cell_type": "code",
   "execution_count": 13,
   "metadata": {},
   "outputs": [
    {
     "data": {
      "text/plain": [
       "12    Muere Luis Eduardo Aute, patrimonio de la canc...\n",
       "13    Isabel Preysler, tres bodas y un lustro de amo...\n",
       "14                            La línea invisible de ETA\n",
       "Name: title, dtype: object"
      ]
     },
     "execution_count": 13,
     "metadata": {},
     "output_type": "execute_result"
    }
   ],
   "source": [
    "el_pais.iloc[12:15]['title']"
   ]
  },
  {
   "cell_type": "code",
   "execution_count": 14,
   "metadata": {},
   "outputs": [
    {
     "data": {
      "text/plain": [
       "0    América concentra el 40% de la pandemia mundia...\n",
       "1    En febrero de 2019, el Papa se reunió con 190 ...\n",
       "2    Bill Withers, el 26 de junio de 2006, cuando r...\n",
       "3    El líder del PP, Pablo Casado, en una reunión ...\n",
       "Name: body, dtype: object"
      ]
     },
     "execution_count": 14,
     "metadata": {},
     "output_type": "execute_result"
    }
   ],
   "source": [
    "el_pais.iloc[0:4,0]"
   ]
  },
  {
   "cell_type": "code",
   "execution_count": 15,
   "metadata": {},
   "outputs": [
    {
     "data": {
      "text/html": [
       "<div>\n",
       "<style scoped>\n",
       "    .dataframe tbody tr th:only-of-type {\n",
       "        vertical-align: middle;\n",
       "    }\n",
       "\n",
       "    .dataframe tbody tr th {\n",
       "        vertical-align: top;\n",
       "    }\n",
       "\n",
       "    .dataframe thead th {\n",
       "        text-align: right;\n",
       "    }\n",
       "</style>\n",
       "<table border=\"1\" class=\"dataframe\">\n",
       "  <thead>\n",
       "    <tr style=\"text-align: right;\">\n",
       "      <th></th>\n",
       "      <th>body</th>\n",
       "      <th>title</th>\n",
       "      <th>url</th>\n",
       "    </tr>\n",
       "  </thead>\n",
       "  <tbody>\n",
       "    <tr>\n",
       "      <th>0</th>\n",
       "      <td>\\n\\nSe viven tiempos inéditos, encerrados en c...</td>\n",
       "      <td>Cómo manejar su dinero en tiempos de coronavirus</td>\n",
       "      <td>https://www.eluniversal.com.mx/cartera/como-ma...</td>\n",
       "    </tr>\n",
       "    <tr>\n",
       "      <th>1</th>\n",
       "      <td>\\n\\n\\n\\n    googletag.cmd.push(function() {\\n ...</td>\n",
       "      <td>Feria del Caballo Texcoco 2020: Nuevas fechas ...</td>\n",
       "      <td>http://www.unionedomex.mx/articulo/2020/04/02/...</td>\n",
       "    </tr>\n",
       "    <tr>\n",
       "      <th>2</th>\n",
       "      <td>\\n\\n\\n\\n    googletag.cmd.push(function() {\\n ...</td>\n",
       "      <td>Jacky Bracamontes vacaciona y desafía al coron...</td>\n",
       "      <td>http://www.unionjalisco.mx/articulo/2020/03/19...</td>\n",
       "    </tr>\n",
       "    <tr>\n",
       "      <th>3</th>\n",
       "      <td>\\n\\nHoy, mientras estás en casa por la conting...</td>\n",
       "      <td>Este domingo arranca nuevo ciclo del Horario d...</td>\n",
       "      <td>https://www.eluniversal.com.mx/cartera/este-do...</td>\n",
       "    </tr>\n",
       "    <tr>\n",
       "      <th>4</th>\n",
       "      <td>\\nEcatepec, Méx.- Con muchas flores y globos, ...</td>\n",
       "      <td>Muere en accidente niño que cuidaba a su mamá,...</td>\n",
       "      <td>https://www.eluniversal.com.mx/metropoli/edome...</td>\n",
       "    </tr>\n",
       "    <tr>\n",
       "      <th>...</th>\n",
       "      <td>...</td>\n",
       "      <td>...</td>\n",
       "      <td>...</td>\n",
       "    </tr>\n",
       "    <tr>\n",
       "      <th>146</th>\n",
       "      <td>\\n\\nEn la subida y en la vida las bicicletas y...</td>\n",
       "      <td>Ante la adversidad, la solidaridad</td>\n",
       "      <td>https://www.eluniversal.com.mx/opinion/jorge-c...</td>\n",
       "    </tr>\n",
       "    <tr>\n",
       "      <th>147</th>\n",
       "      <td>\\nLa Policía Cibernética de la Secretaría de S...</td>\n",
       "      <td>Policía Cibernética alerta por cuenta de corre...</td>\n",
       "      <td>https://sanluis.eluniversal.com.mx/seguridad/0...</td>\n",
       "    </tr>\n",
       "    <tr>\n",
       "      <th>148</th>\n",
       "      <td>0 % PULSO SOCIAL0 La recomendación más frecue...</td>\n",
       "      <td>NaN</td>\n",
       "      <td>https://de10.com.mx/vivir-bien/por-que-el-jabo...</td>\n",
       "    </tr>\n",
       "    <tr>\n",
       "      <th>149</th>\n",
       "      <td>\\nTodas las plazas comerciales y cerca de 80% ...</td>\n",
       "      <td>Casi 80% de los comercios permanecen cerrados</td>\n",
       "      <td>https://www.eluniversalqueretaro.mx/portada/ca...</td>\n",
       "    </tr>\n",
       "    <tr>\n",
       "      <th>150</th>\n",
       "      <td>\\nSi tienes una moto lo más probable es que te...</td>\n",
       "      <td>Cómo darle mantenimiento a tu moto durante la ...</td>\n",
       "      <td>https://www.eluniversal.com.mx/autopistas/cuar...</td>\n",
       "    </tr>\n",
       "  </tbody>\n",
       "</table>\n",
       "<p>151 rows × 3 columns</p>\n",
       "</div>"
      ],
      "text/plain": [
       "                                                  body  \\\n",
       "0    \\n\\nSe viven tiempos inéditos, encerrados en c...   \n",
       "1    \\n\\n\\n\\n    googletag.cmd.push(function() {\\n ...   \n",
       "2    \\n\\n\\n\\n    googletag.cmd.push(function() {\\n ...   \n",
       "3    \\n\\nHoy, mientras estás en casa por la conting...   \n",
       "4    \\nEcatepec, Méx.- Con muchas flores y globos, ...   \n",
       "..                                                 ...   \n",
       "146  \\n\\nEn la subida y en la vida las bicicletas y...   \n",
       "147  \\nLa Policía Cibernética de la Secretaría de S...   \n",
       "148   0 % PULSO SOCIAL0 La recomendación más frecue...   \n",
       "149  \\nTodas las plazas comerciales y cerca de 80% ...   \n",
       "150  \\nSi tienes una moto lo más probable es que te...   \n",
       "\n",
       "                                                 title  \\\n",
       "0     Cómo manejar su dinero en tiempos de coronavirus   \n",
       "1    Feria del Caballo Texcoco 2020: Nuevas fechas ...   \n",
       "2    Jacky Bracamontes vacaciona y desafía al coron...   \n",
       "3    Este domingo arranca nuevo ciclo del Horario d...   \n",
       "4    Muere en accidente niño que cuidaba a su mamá,...   \n",
       "..                                                 ...   \n",
       "146                 Ante la adversidad, la solidaridad   \n",
       "147  Policía Cibernética alerta por cuenta de corre...   \n",
       "148                                                NaN   \n",
       "149      Casi 80% de los comercios permanecen cerrados   \n",
       "150  Cómo darle mantenimiento a tu moto durante la ...   \n",
       "\n",
       "                                                   url  \n",
       "0    https://www.eluniversal.com.mx/cartera/como-ma...  \n",
       "1    http://www.unionedomex.mx/articulo/2020/04/02/...  \n",
       "2    http://www.unionjalisco.mx/articulo/2020/03/19...  \n",
       "3    https://www.eluniversal.com.mx/cartera/este-do...  \n",
       "4    https://www.eluniversal.com.mx/metropoli/edome...  \n",
       "..                                                 ...  \n",
       "146  https://www.eluniversal.com.mx/opinion/jorge-c...  \n",
       "147  https://sanluis.eluniversal.com.mx/seguridad/0...  \n",
       "148  https://de10.com.mx/vivir-bien/por-que-el-jabo...  \n",
       "149  https://www.eluniversalqueretaro.mx/portada/ca...  \n",
       "150  https://www.eluniversal.com.mx/autopistas/cuar...  \n",
       "\n",
       "[151 rows x 3 columns]"
      ]
     },
     "execution_count": 15,
     "metadata": {},
     "output_type": "execute_result"
    }
   ],
   "source": [
    "#label based\n",
    "el_universal.loc[:,'body':'url']"
   ]
  },
  {
   "cell_type": "markdown",
   "metadata": {},
   "source": [
    "# Data wrangling"
   ]
  },
  {
   "cell_type": "code",
   "execution_count": 16,
   "metadata": {
    "scrolled": true
   },
   "outputs": [
    {
     "data": {
      "text/html": [
       "<div>\n",
       "<style scoped>\n",
       "    .dataframe tbody tr th:only-of-type {\n",
       "        vertical-align: middle;\n",
       "    }\n",
       "\n",
       "    .dataframe tbody tr th {\n",
       "        vertical-align: top;\n",
       "    }\n",
       "\n",
       "    .dataframe thead th {\n",
       "        text-align: right;\n",
       "    }\n",
       "</style>\n",
       "<table border=\"1\" class=\"dataframe\">\n",
       "  <thead>\n",
       "    <tr style=\"text-align: right;\">\n",
       "      <th></th>\n",
       "      <th>body</th>\n",
       "      <th>title</th>\n",
       "      <th>url</th>\n",
       "      <th>newspaper_uid</th>\n",
       "    </tr>\n",
       "  </thead>\n",
       "  <tbody>\n",
       "    <tr>\n",
       "      <th>0</th>\n",
       "      <td>\\n\\nSe viven tiempos inéditos, encerrados en c...</td>\n",
       "      <td>Cómo manejar su dinero en tiempos de coronavirus</td>\n",
       "      <td>https://www.eluniversal.com.mx/cartera/como-ma...</td>\n",
       "      <td>el_universal</td>\n",
       "    </tr>\n",
       "    <tr>\n",
       "      <th>1</th>\n",
       "      <td>\\n\\n\\n\\n    googletag.cmd.push(function() {\\n ...</td>\n",
       "      <td>Feria del Caballo Texcoco 2020: Nuevas fechas ...</td>\n",
       "      <td>http://www.unionedomex.mx/articulo/2020/04/02/...</td>\n",
       "      <td>el_universal</td>\n",
       "    </tr>\n",
       "    <tr>\n",
       "      <th>2</th>\n",
       "      <td>\\n\\n\\n\\n    googletag.cmd.push(function() {\\n ...</td>\n",
       "      <td>Jacky Bracamontes vacaciona y desafía al coron...</td>\n",
       "      <td>http://www.unionjalisco.mx/articulo/2020/03/19...</td>\n",
       "      <td>el_universal</td>\n",
       "    </tr>\n",
       "    <tr>\n",
       "      <th>3</th>\n",
       "      <td>\\n\\nHoy, mientras estás en casa por la conting...</td>\n",
       "      <td>Este domingo arranca nuevo ciclo del Horario d...</td>\n",
       "      <td>https://www.eluniversal.com.mx/cartera/este-do...</td>\n",
       "      <td>el_universal</td>\n",
       "    </tr>\n",
       "    <tr>\n",
       "      <th>4</th>\n",
       "      <td>\\nEcatepec, Méx.- Con muchas flores y globos, ...</td>\n",
       "      <td>Muere en accidente niño que cuidaba a su mamá,...</td>\n",
       "      <td>https://www.eluniversal.com.mx/metropoli/edome...</td>\n",
       "      <td>el_universal</td>\n",
       "    </tr>\n",
       "    <tr>\n",
       "      <th>...</th>\n",
       "      <td>...</td>\n",
       "      <td>...</td>\n",
       "      <td>...</td>\n",
       "      <td>...</td>\n",
       "    </tr>\n",
       "    <tr>\n",
       "      <th>146</th>\n",
       "      <td>\\n\\nEn la subida y en la vida las bicicletas y...</td>\n",
       "      <td>Ante la adversidad, la solidaridad</td>\n",
       "      <td>https://www.eluniversal.com.mx/opinion/jorge-c...</td>\n",
       "      <td>el_universal</td>\n",
       "    </tr>\n",
       "    <tr>\n",
       "      <th>147</th>\n",
       "      <td>\\nLa Policía Cibernética de la Secretaría de S...</td>\n",
       "      <td>Policía Cibernética alerta por cuenta de corre...</td>\n",
       "      <td>https://sanluis.eluniversal.com.mx/seguridad/0...</td>\n",
       "      <td>el_universal</td>\n",
       "    </tr>\n",
       "    <tr>\n",
       "      <th>148</th>\n",
       "      <td>0 % PULSO SOCIAL0 La recomendación más frecue...</td>\n",
       "      <td>NaN</td>\n",
       "      <td>https://de10.com.mx/vivir-bien/por-que-el-jabo...</td>\n",
       "      <td>el_universal</td>\n",
       "    </tr>\n",
       "    <tr>\n",
       "      <th>149</th>\n",
       "      <td>\\nTodas las plazas comerciales y cerca de 80% ...</td>\n",
       "      <td>Casi 80% de los comercios permanecen cerrados</td>\n",
       "      <td>https://www.eluniversalqueretaro.mx/portada/ca...</td>\n",
       "      <td>el_universal</td>\n",
       "    </tr>\n",
       "    <tr>\n",
       "      <th>150</th>\n",
       "      <td>\\nSi tienes una moto lo más probable es que te...</td>\n",
       "      <td>Cómo darle mantenimiento a tu moto durante la ...</td>\n",
       "      <td>https://www.eluniversal.com.mx/autopistas/cuar...</td>\n",
       "      <td>el_universal</td>\n",
       "    </tr>\n",
       "  </tbody>\n",
       "</table>\n",
       "<p>151 rows × 4 columns</p>\n",
       "</div>"
      ],
      "text/plain": [
       "                                                  body  \\\n",
       "0    \\n\\nSe viven tiempos inéditos, encerrados en c...   \n",
       "1    \\n\\n\\n\\n    googletag.cmd.push(function() {\\n ...   \n",
       "2    \\n\\n\\n\\n    googletag.cmd.push(function() {\\n ...   \n",
       "3    \\n\\nHoy, mientras estás en casa por la conting...   \n",
       "4    \\nEcatepec, Méx.- Con muchas flores y globos, ...   \n",
       "..                                                 ...   \n",
       "146  \\n\\nEn la subida y en la vida las bicicletas y...   \n",
       "147  \\nLa Policía Cibernética de la Secretaría de S...   \n",
       "148   0 % PULSO SOCIAL0 La recomendación más frecue...   \n",
       "149  \\nTodas las plazas comerciales y cerca de 80% ...   \n",
       "150  \\nSi tienes una moto lo más probable es que te...   \n",
       "\n",
       "                                                 title  \\\n",
       "0     Cómo manejar su dinero en tiempos de coronavirus   \n",
       "1    Feria del Caballo Texcoco 2020: Nuevas fechas ...   \n",
       "2    Jacky Bracamontes vacaciona y desafía al coron...   \n",
       "3    Este domingo arranca nuevo ciclo del Horario d...   \n",
       "4    Muere en accidente niño que cuidaba a su mamá,...   \n",
       "..                                                 ...   \n",
       "146                 Ante la adversidad, la solidaridad   \n",
       "147  Policía Cibernética alerta por cuenta de corre...   \n",
       "148                                                NaN   \n",
       "149      Casi 80% de los comercios permanecen cerrados   \n",
       "150  Cómo darle mantenimiento a tu moto durante la ...   \n",
       "\n",
       "                                                   url newspaper_uid  \n",
       "0    https://www.eluniversal.com.mx/cartera/como-ma...  el_universal  \n",
       "1    http://www.unionedomex.mx/articulo/2020/04/02/...  el_universal  \n",
       "2    http://www.unionjalisco.mx/articulo/2020/03/19...  el_universal  \n",
       "3    https://www.eluniversal.com.mx/cartera/este-do...  el_universal  \n",
       "4    https://www.eluniversal.com.mx/metropoli/edome...  el_universal  \n",
       "..                                                 ...           ...  \n",
       "146  https://www.eluniversal.com.mx/opinion/jorge-c...  el_universal  \n",
       "147  https://sanluis.eluniversal.com.mx/seguridad/0...  el_universal  \n",
       "148  https://de10.com.mx/vivir-bien/por-que-el-jabo...  el_universal  \n",
       "149  https://www.eluniversalqueretaro.mx/portada/ca...  el_universal  \n",
       "150  https://www.eluniversal.com.mx/autopistas/cuar...  el_universal  \n",
       "\n",
       "[151 rows x 4 columns]"
      ]
     },
     "execution_count": 16,
     "metadata": {},
     "output_type": "execute_result"
    }
   ],
   "source": [
    "# 1. Add news_paper_uid DataFrame\n",
    "\n",
    "el_pais['newspaper_uid'] = 'el_pais'\n",
    "el_pais\n",
    "el_universal['newspaper_uid'] = 'el_universal'\n",
    "el_universal"
   ]
  },
  {
   "cell_type": "code",
   "execution_count": 17,
   "metadata": {},
   "outputs": [
    {
     "data": {
      "text/html": [
       "<div>\n",
       "<style scoped>\n",
       "    .dataframe tbody tr th:only-of-type {\n",
       "        vertical-align: middle;\n",
       "    }\n",
       "\n",
       "    .dataframe tbody tr th {\n",
       "        vertical-align: top;\n",
       "    }\n",
       "\n",
       "    .dataframe thead th {\n",
       "        text-align: right;\n",
       "    }\n",
       "</style>\n",
       "<table border=\"1\" class=\"dataframe\">\n",
       "  <thead>\n",
       "    <tr style=\"text-align: right;\">\n",
       "      <th></th>\n",
       "      <th>body</th>\n",
       "      <th>title</th>\n",
       "      <th>url</th>\n",
       "      <th>newspaper_uid</th>\n",
       "      <th>host</th>\n",
       "    </tr>\n",
       "  </thead>\n",
       "  <tbody>\n",
       "    <tr>\n",
       "      <th>0</th>\n",
       "      <td>\\n\\nSe viven tiempos inéditos, encerrados en c...</td>\n",
       "      <td>Cómo manejar su dinero en tiempos de coronavirus</td>\n",
       "      <td>https://www.eluniversal.com.mx/cartera/como-ma...</td>\n",
       "      <td>el_universal</td>\n",
       "      <td>www.eluniversal.com.mx</td>\n",
       "    </tr>\n",
       "    <tr>\n",
       "      <th>1</th>\n",
       "      <td>\\n\\n\\n\\n    googletag.cmd.push(function() {\\n ...</td>\n",
       "      <td>Feria del Caballo Texcoco 2020: Nuevas fechas ...</td>\n",
       "      <td>http://www.unionedomex.mx/articulo/2020/04/02/...</td>\n",
       "      <td>el_universal</td>\n",
       "      <td>www.unionedomex.mx</td>\n",
       "    </tr>\n",
       "    <tr>\n",
       "      <th>2</th>\n",
       "      <td>\\n\\n\\n\\n    googletag.cmd.push(function() {\\n ...</td>\n",
       "      <td>Jacky Bracamontes vacaciona y desafía al coron...</td>\n",
       "      <td>http://www.unionjalisco.mx/articulo/2020/03/19...</td>\n",
       "      <td>el_universal</td>\n",
       "      <td>www.unionjalisco.mx</td>\n",
       "    </tr>\n",
       "    <tr>\n",
       "      <th>3</th>\n",
       "      <td>\\n\\nHoy, mientras estás en casa por la conting...</td>\n",
       "      <td>Este domingo arranca nuevo ciclo del Horario d...</td>\n",
       "      <td>https://www.eluniversal.com.mx/cartera/este-do...</td>\n",
       "      <td>el_universal</td>\n",
       "      <td>www.eluniversal.com.mx</td>\n",
       "    </tr>\n",
       "    <tr>\n",
       "      <th>4</th>\n",
       "      <td>\\nEcatepec, Méx.- Con muchas flores y globos, ...</td>\n",
       "      <td>Muere en accidente niño que cuidaba a su mamá,...</td>\n",
       "      <td>https://www.eluniversal.com.mx/metropoli/edome...</td>\n",
       "      <td>el_universal</td>\n",
       "      <td>www.eluniversal.com.mx</td>\n",
       "    </tr>\n",
       "    <tr>\n",
       "      <th>...</th>\n",
       "      <td>...</td>\n",
       "      <td>...</td>\n",
       "      <td>...</td>\n",
       "      <td>...</td>\n",
       "      <td>...</td>\n",
       "    </tr>\n",
       "    <tr>\n",
       "      <th>146</th>\n",
       "      <td>\\n\\nEn la subida y en la vida las bicicletas y...</td>\n",
       "      <td>Ante la adversidad, la solidaridad</td>\n",
       "      <td>https://www.eluniversal.com.mx/opinion/jorge-c...</td>\n",
       "      <td>el_universal</td>\n",
       "      <td>www.eluniversal.com.mx</td>\n",
       "    </tr>\n",
       "    <tr>\n",
       "      <th>147</th>\n",
       "      <td>\\nLa Policía Cibernética de la Secretaría de S...</td>\n",
       "      <td>Policía Cibernética alerta por cuenta de corre...</td>\n",
       "      <td>https://sanluis.eluniversal.com.mx/seguridad/0...</td>\n",
       "      <td>el_universal</td>\n",
       "      <td>sanluis.eluniversal.com.mx</td>\n",
       "    </tr>\n",
       "    <tr>\n",
       "      <th>148</th>\n",
       "      <td>0 % PULSO SOCIAL0 La recomendación más frecue...</td>\n",
       "      <td>NaN</td>\n",
       "      <td>https://de10.com.mx/vivir-bien/por-que-el-jabo...</td>\n",
       "      <td>el_universal</td>\n",
       "      <td>de10.com.mx</td>\n",
       "    </tr>\n",
       "    <tr>\n",
       "      <th>149</th>\n",
       "      <td>\\nTodas las plazas comerciales y cerca de 80% ...</td>\n",
       "      <td>Casi 80% de los comercios permanecen cerrados</td>\n",
       "      <td>https://www.eluniversalqueretaro.mx/portada/ca...</td>\n",
       "      <td>el_universal</td>\n",
       "      <td>www.eluniversalqueretaro.mx</td>\n",
       "    </tr>\n",
       "    <tr>\n",
       "      <th>150</th>\n",
       "      <td>\\nSi tienes una moto lo más probable es que te...</td>\n",
       "      <td>Cómo darle mantenimiento a tu moto durante la ...</td>\n",
       "      <td>https://www.eluniversal.com.mx/autopistas/cuar...</td>\n",
       "      <td>el_universal</td>\n",
       "      <td>www.eluniversal.com.mx</td>\n",
       "    </tr>\n",
       "  </tbody>\n",
       "</table>\n",
       "<p>151 rows × 5 columns</p>\n",
       "</div>"
      ],
      "text/plain": [
       "                                                  body  \\\n",
       "0    \\n\\nSe viven tiempos inéditos, encerrados en c...   \n",
       "1    \\n\\n\\n\\n    googletag.cmd.push(function() {\\n ...   \n",
       "2    \\n\\n\\n\\n    googletag.cmd.push(function() {\\n ...   \n",
       "3    \\n\\nHoy, mientras estás en casa por la conting...   \n",
       "4    \\nEcatepec, Méx.- Con muchas flores y globos, ...   \n",
       "..                                                 ...   \n",
       "146  \\n\\nEn la subida y en la vida las bicicletas y...   \n",
       "147  \\nLa Policía Cibernética de la Secretaría de S...   \n",
       "148   0 % PULSO SOCIAL0 La recomendación más frecue...   \n",
       "149  \\nTodas las plazas comerciales y cerca de 80% ...   \n",
       "150  \\nSi tienes una moto lo más probable es que te...   \n",
       "\n",
       "                                                 title  \\\n",
       "0     Cómo manejar su dinero en tiempos de coronavirus   \n",
       "1    Feria del Caballo Texcoco 2020: Nuevas fechas ...   \n",
       "2    Jacky Bracamontes vacaciona y desafía al coron...   \n",
       "3    Este domingo arranca nuevo ciclo del Horario d...   \n",
       "4    Muere en accidente niño que cuidaba a su mamá,...   \n",
       "..                                                 ...   \n",
       "146                 Ante la adversidad, la solidaridad   \n",
       "147  Policía Cibernética alerta por cuenta de corre...   \n",
       "148                                                NaN   \n",
       "149      Casi 80% de los comercios permanecen cerrados   \n",
       "150  Cómo darle mantenimiento a tu moto durante la ...   \n",
       "\n",
       "                                                   url newspaper_uid  \\\n",
       "0    https://www.eluniversal.com.mx/cartera/como-ma...  el_universal   \n",
       "1    http://www.unionedomex.mx/articulo/2020/04/02/...  el_universal   \n",
       "2    http://www.unionjalisco.mx/articulo/2020/03/19...  el_universal   \n",
       "3    https://www.eluniversal.com.mx/cartera/este-do...  el_universal   \n",
       "4    https://www.eluniversal.com.mx/metropoli/edome...  el_universal   \n",
       "..                                                 ...           ...   \n",
       "146  https://www.eluniversal.com.mx/opinion/jorge-c...  el_universal   \n",
       "147  https://sanluis.eluniversal.com.mx/seguridad/0...  el_universal   \n",
       "148  https://de10.com.mx/vivir-bien/por-que-el-jabo...  el_universal   \n",
       "149  https://www.eluniversalqueretaro.mx/portada/ca...  el_universal   \n",
       "150  https://www.eluniversal.com.mx/autopistas/cuar...  el_universal   \n",
       "\n",
       "                            host  \n",
       "0         www.eluniversal.com.mx  \n",
       "1             www.unionedomex.mx  \n",
       "2            www.unionjalisco.mx  \n",
       "3         www.eluniversal.com.mx  \n",
       "4         www.eluniversal.com.mx  \n",
       "..                           ...  \n",
       "146       www.eluniversal.com.mx  \n",
       "147   sanluis.eluniversal.com.mx  \n",
       "148                  de10.com.mx  \n",
       "149  www.eluniversalqueretaro.mx  \n",
       "150       www.eluniversal.com.mx  \n",
       "\n",
       "[151 rows x 5 columns]"
      ]
     },
     "execution_count": 17,
     "metadata": {},
     "output_type": "execute_result"
    }
   ],
   "source": [
    "#2 Get host\n",
    "from urllib.parse import urlparse\n",
    "\n",
    "el_pais['host'] =  el_pais['url'].apply(lambda url: urlparse(url).netloc)\n",
    "el_pais\n",
    "el_universal['host'] =  el_universal['url'].apply(lambda url: urlparse(url).netloc)\n",
    "el_universal\n"
   ]
  },
  {
   "cell_type": "code",
   "execution_count": 18,
   "metadata": {},
   "outputs": [
    {
     "data": {
      "text/plain": [
       "www.eluniversal.com.mx         95\n",
       "www.viveusa.mx                 13\n",
       "de10.com.mx                     7\n",
       "www.elgrafico.mx                6\n",
       "www.eluniversalqueretaro.mx     5\n",
       "                               ..\n",
       "www.unionpuebla.mx              3\n",
       "www.unionyucatan.mx             2\n",
       "www.unioncdmx.mx                1\n",
       "www.clubeluniversal.mx          1\n",
       "eluniversal.com.mx              1\n",
       "Name: host, Length: 15, dtype: int64"
      ]
     },
     "execution_count": 18,
     "metadata": {},
     "output_type": "execute_result"
    }
   ],
   "source": [
    "el_pais['host'].value_counts()\n",
    "el_universal['host'].value_counts()\n"
   ]
  },
  {
   "cell_type": "code",
   "execution_count": 19,
   "metadata": {},
   "outputs": [],
   "source": [
    "pd.options.display.max_colwidth = 100"
   ]
  },
  {
   "cell_type": "code",
   "execution_count": 20,
   "metadata": {},
   "outputs": [
    {
     "data": {
      "text/plain": [
       "0     América concentra el 40% de la pandemia mundial frente a Europa que acumula más del 51%. Sin emb...\n",
       "1     En febrero de 2019, el Papa se reunió con 190 miembros destacados de la Iglesia católica para ab...\n",
       "2     Bill Withers, el 26 de junio de 2006, cuando recibió un homenaje de la Rhythm & Soul Music Award...\n",
       "3     El líder del PP, Pablo Casado, en una reunión por videoconferencia este viernes.DAVID MUDARRA / ...\n",
       "4     El presidente del Eurogrupo, Mário Centeno, en Lisboa.PEDRO NUNES / ReutersLos ministros de Fina...\n",
       "                                                     ...                                                 \n",
       "48    Lo que sucedió este jueves en Venezuela es un reflejo de la paradoja que envuelve la disputa ent...\n",
       "49    ¿Quién dijo que no habría Semana Santa? Es lo que debieron pensar nueve mujeres de Porcuna (Jaén...\n",
       "50    El fútbol es, quizás, lo único que los pobres arrebataron a los ricos. El juego nació, se reglam...\n",
       "51    \\nItalia ha registrado en las últimas 24 horas 681 muertos, lo que eleva los fallecidos a 15.362...\n",
       "52    Francia investiga como un posible acto terrorista el ataque con cuchillo que ha dejado este sába...\n",
       "Name: body, Length: 53, dtype: object"
      ]
     },
     "execution_count": 20,
     "metadata": {},
     "output_type": "execute_result"
    }
   ],
   "source": [
    "import re\n",
    "tag_regex = re.compile(r'^<.*>$') #/my-text\n",
    "\n",
    "for _ in el_pais['body']:\n",
    "    re.sub(tag_regex, '', _)\n",
    "el_pais['body']"
   ]
  },
  {
   "cell_type": "markdown",
   "metadata": {},
   "source": [
    "# Missing Data"
   ]
  },
  {
   "cell_type": "code",
   "execution_count": 21,
   "metadata": {},
   "outputs": [],
   "source": [
    "#Replacing Data\n",
    "missing_titles_mask = el_pais['title'].isna()\n",
    "missing_titles =(el_pais[1:2]['url']\n",
    "  .str.extract(r'(?P<missing_titles>[^/]+)$')\n",
    "  .applymap(lambda title: title.replace('-',' '))\n",
    "  .applymap(lambda title: title.replace('.html','')) \n",
    ")\n",
    "el_pais.loc[missing_titles_mask, 'title'] = missing_titles.loc[:, 'missing_titles']\n",
    "\n",
    "missing_titles_mask = el_universal['title'].isna()\n",
    "missing_titles= (el_universal[1:2]['url']\n",
    "  .str.extract(r'(?P<missing_titles>[^/]+)$')\n",
    "  .applymap(lambda title: title.replace('-',' '))\n",
    "  .applymap(lambda title: title.replace('.html','')) \n",
    ")\n",
    "el_universal.loc[missing_titles_mask, 'title'] = missing_titles.loc[:, 'missing_titles']\n",
    "\n"
   ]
  },
  {
   "cell_type": "markdown",
   "metadata": {},
   "source": [
    "# Additional cleanup"
   ]
  },
  {
   "cell_type": "code",
   "execution_count": 22,
   "metadata": {},
   "outputs": [
    {
     "data": {
      "text/html": [
       "<div>\n",
       "<style scoped>\n",
       "    .dataframe tbody tr th:only-of-type {\n",
       "        vertical-align: middle;\n",
       "    }\n",
       "\n",
       "    .dataframe tbody tr th {\n",
       "        vertical-align: top;\n",
       "    }\n",
       "\n",
       "    .dataframe thead th {\n",
       "        text-align: right;\n",
       "    }\n",
       "</style>\n",
       "<table border=\"1\" class=\"dataframe\">\n",
       "  <thead>\n",
       "    <tr style=\"text-align: right;\">\n",
       "      <th></th>\n",
       "      <th>body</th>\n",
       "      <th>title</th>\n",
       "      <th>url</th>\n",
       "      <th>newspaper_uid</th>\n",
       "      <th>host</th>\n",
       "    </tr>\n",
       "    <tr>\n",
       "      <th>uid</th>\n",
       "      <th></th>\n",
       "      <th></th>\n",
       "      <th></th>\n",
       "      <th></th>\n",
       "      <th></th>\n",
       "    </tr>\n",
       "  </thead>\n",
       "  <tbody>\n",
       "    <tr>\n",
       "      <th>db5585f97d0bd9a694f9700421f827ea</th>\n",
       "      <td>\\n\\nSe viven tiempos inéditos, encerrados en casa y con un tapabocas.\\n\\nLa crisis sanitaria gen...</td>\n",
       "      <td>Cómo manejar su dinero en tiempos de coronavirus</td>\n",
       "      <td>https://www.eluniversal.com.mx/cartera/como-manejar-su-dinero-en-tiempos-de-coronavirus</td>\n",
       "      <td>el_universal</td>\n",
       "      <td>www.eluniversal.com.mx</td>\n",
       "    </tr>\n",
       "    <tr>\n",
       "      <th>63f59524a1ed95fb800eb6fb6a5aee6d</th>\n",
       "      <td>\\n\\n\\n\\n    googletag.cmd.push(function() {\\n      googletag.display(\"dfp-ad-top3_content\");\\n  ...</td>\n",
       "      <td>Feria del Caballo Texcoco 2020: Nuevas fechas cartel palenque</td>\n",
       "      <td>http://www.unionedomex.mx/articulo/2020/04/02/recreo/feria-del-caballo-texcoco-2020-nuevo-fechas...</td>\n",
       "      <td>el_universal</td>\n",
       "      <td>www.unionedomex.mx</td>\n",
       "    </tr>\n",
       "    <tr>\n",
       "      <th>e597625dae699d0b64037d5d9148415c</th>\n",
       "      <td>\\n\\n\\n\\n    googletag.cmd.push(function() {\\n      googletag.display(\"dfp-ad-top3_content\");\\n  ...</td>\n",
       "      <td>Jacky Bracamontes vacaciona y desafía al coronavirus</td>\n",
       "      <td>http://www.unionjalisco.mx/articulo/2020/03/19/espectaculos/jacky-bracamontes-vacaciona-y-desafi...</td>\n",
       "      <td>el_universal</td>\n",
       "      <td>www.unionjalisco.mx</td>\n",
       "    </tr>\n",
       "    <tr>\n",
       "      <th>2f3b2f91d58a2ca3cec5e958ec49afd7</th>\n",
       "      <td>\\n\\nHoy, mientras estás en casa por la contingencia sanitaria y antes de irte a dormir, recuerda...</td>\n",
       "      <td>Este domingo arranca nuevo ciclo del Horario de Verano</td>\n",
       "      <td>https://www.eluniversal.com.mx/cartera/este-domingo-arranca-nuevo-ciclo-del-horario-de-verano</td>\n",
       "      <td>el_universal</td>\n",
       "      <td>www.eluniversal.com.mx</td>\n",
       "    </tr>\n",
       "    <tr>\n",
       "      <th>f9c46896a6de43afa94292c87e926d3a</th>\n",
       "      <td>\\nEcatepec, Méx.- Con muchas flores y globos, así quiere despedir Adriana a su hijo, José Eduard...</td>\n",
       "      <td>Muere en accidente niño que cuidaba a su mamá, paciente con Covid-19</td>\n",
       "      <td>https://www.eluniversal.com.mx/metropoli/edomex/muere-electrocutado-nino-que-cuidaba-su-mama-pac...</td>\n",
       "      <td>el_universal</td>\n",
       "      <td>www.eluniversal.com.mx</td>\n",
       "    </tr>\n",
       "    <tr>\n",
       "      <th>...</th>\n",
       "      <td>...</td>\n",
       "      <td>...</td>\n",
       "      <td>...</td>\n",
       "      <td>...</td>\n",
       "      <td>...</td>\n",
       "    </tr>\n",
       "    <tr>\n",
       "      <th>52b2876aba328b207979f248e05f835b</th>\n",
       "      <td>\\n\\nEn la subida y en la vida las bicicletas y las economías tienen algo en común: ambas tienen ...</td>\n",
       "      <td>Ante la adversidad, la solidaridad</td>\n",
       "      <td>https://www.eluniversal.com.mx/opinion/jorge-chavez-presa/ante-la-adversidad-la-solidaridad</td>\n",
       "      <td>el_universal</td>\n",
       "      <td>www.eluniversal.com.mx</td>\n",
       "    </tr>\n",
       "    <tr>\n",
       "      <th>eee333388f1af62927ba60e9c3529c6c</th>\n",
       "      <td>\\nLa Policía Cibernética de la Secretaría de Seguridad Pública alertó sobre un correo electrónic...</td>\n",
       "      <td>Policía Cibernética alerta por cuenta de correo apócrifa de la titular de Salud en SLP</td>\n",
       "      <td>https://sanluis.eluniversal.com.mx/seguridad/02-04-2020/policia-cibernetica-alerta-por-cuenta-de...</td>\n",
       "      <td>el_universal</td>\n",
       "      <td>sanluis.eluniversal.com.mx</td>\n",
       "    </tr>\n",
       "    <tr>\n",
       "      <th>f2d21a3d1cf30f277570fefde679e910</th>\n",
       "      <td>0 % PULSO SOCIAL0 La recomendación más frecuente ante la pandemia por coronavirus (Covid-19) es...</td>\n",
       "      <td>NaN</td>\n",
       "      <td>https://de10.com.mx/vivir-bien/por-que-el-jabon-es-nuestra-mejor-arma-contra-el-coronavirus</td>\n",
       "      <td>el_universal</td>\n",
       "      <td>de10.com.mx</td>\n",
       "    </tr>\n",
       "    <tr>\n",
       "      <th>4aba980bf64de2d94347b1a725df91bd</th>\n",
       "      <td>\\nTodas las plazas comerciales y cerca de 80% de los comercios permanecerán cerrados durante la ...</td>\n",
       "      <td>Casi 80% de los comercios permanecen cerrados</td>\n",
       "      <td>https://www.eluniversalqueretaro.mx/portada/casi-80-de-los-comercios-permanecen-cerrados</td>\n",
       "      <td>el_universal</td>\n",
       "      <td>www.eluniversalqueretaro.mx</td>\n",
       "    </tr>\n",
       "    <tr>\n",
       "      <th>286c85c2ce470817689cde189b3a6346</th>\n",
       "      <td>\\nSi tienes una moto lo más probable es que te guste mantenerla en perfectas condiciones, pues m...</td>\n",
       "      <td>Cómo darle mantenimiento a tu moto durante la cuarentena</td>\n",
       "      <td>https://www.eluniversal.com.mx/autopistas/cuarentena-como-darle-mantenimiento-mi-moto</td>\n",
       "      <td>el_universal</td>\n",
       "      <td>www.eluniversal.com.mx</td>\n",
       "    </tr>\n",
       "  </tbody>\n",
       "</table>\n",
       "<p>151 rows × 5 columns</p>\n",
       "</div>"
      ],
      "text/plain": [
       "                                                                                                                                 body  \\\n",
       "uid                                                                                                                                     \n",
       "db5585f97d0bd9a694f9700421f827ea  \\n\\nSe viven tiempos inéditos, encerrados en casa y con un tapabocas.\\n\\nLa crisis sanitaria gen...   \n",
       "63f59524a1ed95fb800eb6fb6a5aee6d  \\n\\n\\n\\n    googletag.cmd.push(function() {\\n      googletag.display(\"dfp-ad-top3_content\");\\n  ...   \n",
       "e597625dae699d0b64037d5d9148415c  \\n\\n\\n\\n    googletag.cmd.push(function() {\\n      googletag.display(\"dfp-ad-top3_content\");\\n  ...   \n",
       "2f3b2f91d58a2ca3cec5e958ec49afd7  \\n\\nHoy, mientras estás en casa por la contingencia sanitaria y antes de irte a dormir, recuerda...   \n",
       "f9c46896a6de43afa94292c87e926d3a  \\nEcatepec, Méx.- Con muchas flores y globos, así quiere despedir Adriana a su hijo, José Eduard...   \n",
       "...                                                                                                                               ...   \n",
       "52b2876aba328b207979f248e05f835b  \\n\\nEn la subida y en la vida las bicicletas y las economías tienen algo en común: ambas tienen ...   \n",
       "eee333388f1af62927ba60e9c3529c6c  \\nLa Policía Cibernética de la Secretaría de Seguridad Pública alertó sobre un correo electrónic...   \n",
       "f2d21a3d1cf30f277570fefde679e910   0 % PULSO SOCIAL0 La recomendación más frecuente ante la pandemia por coronavirus (Covid-19) es...   \n",
       "4aba980bf64de2d94347b1a725df91bd  \\nTodas las plazas comerciales y cerca de 80% de los comercios permanecerán cerrados durante la ...   \n",
       "286c85c2ce470817689cde189b3a6346  \\nSi tienes una moto lo más probable es que te guste mantenerla en perfectas condiciones, pues m...   \n",
       "\n",
       "                                                                                                                   title  \\\n",
       "uid                                                                                                                        \n",
       "db5585f97d0bd9a694f9700421f827ea                                        Cómo manejar su dinero en tiempos de coronavirus   \n",
       "63f59524a1ed95fb800eb6fb6a5aee6d                          Feria del Caballo Texcoco 2020: Nuevas fechas cartel palenque    \n",
       "e597625dae699d0b64037d5d9148415c                                    Jacky Bracamontes vacaciona y desafía al coronavirus   \n",
       "2f3b2f91d58a2ca3cec5e958ec49afd7                                  Este domingo arranca nuevo ciclo del Horario de Verano   \n",
       "f9c46896a6de43afa94292c87e926d3a                    Muere en accidente niño que cuidaba a su mamá, paciente con Covid-19   \n",
       "...                                                                                                                  ...   \n",
       "52b2876aba328b207979f248e05f835b                                                      Ante la adversidad, la solidaridad   \n",
       "eee333388f1af62927ba60e9c3529c6c  Policía Cibernética alerta por cuenta de correo apócrifa de la titular de Salud en SLP   \n",
       "f2d21a3d1cf30f277570fefde679e910                                                                                     NaN   \n",
       "4aba980bf64de2d94347b1a725df91bd                                           Casi 80% de los comercios permanecen cerrados   \n",
       "286c85c2ce470817689cde189b3a6346                                Cómo darle mantenimiento a tu moto durante la cuarentena   \n",
       "\n",
       "                                                                                                                                  url  \\\n",
       "uid                                                                                                                                     \n",
       "db5585f97d0bd9a694f9700421f827ea              https://www.eluniversal.com.mx/cartera/como-manejar-su-dinero-en-tiempos-de-coronavirus   \n",
       "63f59524a1ed95fb800eb6fb6a5aee6d  http://www.unionedomex.mx/articulo/2020/04/02/recreo/feria-del-caballo-texcoco-2020-nuevo-fechas...   \n",
       "e597625dae699d0b64037d5d9148415c  http://www.unionjalisco.mx/articulo/2020/03/19/espectaculos/jacky-bracamontes-vacaciona-y-desafi...   \n",
       "2f3b2f91d58a2ca3cec5e958ec49afd7        https://www.eluniversal.com.mx/cartera/este-domingo-arranca-nuevo-ciclo-del-horario-de-verano   \n",
       "f9c46896a6de43afa94292c87e926d3a  https://www.eluniversal.com.mx/metropoli/edomex/muere-electrocutado-nino-que-cuidaba-su-mama-pac...   \n",
       "...                                                                                                                               ...   \n",
       "52b2876aba328b207979f248e05f835b          https://www.eluniversal.com.mx/opinion/jorge-chavez-presa/ante-la-adversidad-la-solidaridad   \n",
       "eee333388f1af62927ba60e9c3529c6c  https://sanluis.eluniversal.com.mx/seguridad/02-04-2020/policia-cibernetica-alerta-por-cuenta-de...   \n",
       "f2d21a3d1cf30f277570fefde679e910          https://de10.com.mx/vivir-bien/por-que-el-jabon-es-nuestra-mejor-arma-contra-el-coronavirus   \n",
       "4aba980bf64de2d94347b1a725df91bd             https://www.eluniversalqueretaro.mx/portada/casi-80-de-los-comercios-permanecen-cerrados   \n",
       "286c85c2ce470817689cde189b3a6346                https://www.eluniversal.com.mx/autopistas/cuarentena-como-darle-mantenimiento-mi-moto   \n",
       "\n",
       "                                 newspaper_uid                         host  \n",
       "uid                                                                          \n",
       "db5585f97d0bd9a694f9700421f827ea  el_universal       www.eluniversal.com.mx  \n",
       "63f59524a1ed95fb800eb6fb6a5aee6d  el_universal           www.unionedomex.mx  \n",
       "e597625dae699d0b64037d5d9148415c  el_universal          www.unionjalisco.mx  \n",
       "2f3b2f91d58a2ca3cec5e958ec49afd7  el_universal       www.eluniversal.com.mx  \n",
       "f9c46896a6de43afa94292c87e926d3a  el_universal       www.eluniversal.com.mx  \n",
       "...                                        ...                          ...  \n",
       "52b2876aba328b207979f248e05f835b  el_universal       www.eluniversal.com.mx  \n",
       "eee333388f1af62927ba60e9c3529c6c  el_universal   sanluis.eluniversal.com.mx  \n",
       "f2d21a3d1cf30f277570fefde679e910  el_universal                  de10.com.mx  \n",
       "4aba980bf64de2d94347b1a725df91bd  el_universal  www.eluniversalqueretaro.mx  \n",
       "286c85c2ce470817689cde189b3a6346  el_universal       www.eluniversal.com.mx  \n",
       "\n",
       "[151 rows x 5 columns]"
      ]
     },
     "execution_count": 22,
     "metadata": {},
     "output_type": "execute_result"
    }
   ],
   "source": [
    "# Adding uid to the rows\n",
    "import hashlib\n",
    "uids = (el_pais\n",
    "        .apply(lambda row: hashlib.md5(bytes(row['url'].encode())),\n",
    "               axis = 'columns')\n",
    "        .apply(lambda hash_object: hash_object.hexdigest())\n",
    "        \n",
    "        ) \n",
    "el_pais['uid'] = uids\n",
    "el_pais.set_index('uid', inplace = True)\n",
    "el_pais\n",
    "uids = (el_universal\n",
    "        .apply(lambda row: hashlib.md5(bytes(row['url'].encode())),\n",
    "               axis = 'columns')\n",
    "        .apply(lambda hash_object: hash_object.hexdigest())\n",
    "        \n",
    "        ) \n",
    "el_universal['uid'] = uids\n",
    "el_universal.set_index('uid', inplace = True)\n",
    "el_universal"
   ]
  },
  {
   "cell_type": "code",
   "execution_count": 23,
   "metadata": {},
   "outputs": [
    {
     "data": {
      "text/plain": [
       "uid\n",
       "afea14977d484336ee39d71b9342b642    América concentra el 40% de la pandemia mundial frente a Europa que acumula más del 51%. Sin emb...\n",
       "6477d5c45a7538c4a31a2bb3820eeccd    En febrero de 2019, el Papa se reunió con 190 miembros destacados de la Iglesia católica para ab...\n",
       "87cb95a5bd2be7a6243557ac3297783e    Bill Withers, el 26 de junio de 2006, cuando recibió un homenaje de la Rhythm & Soul Music Award...\n",
       "8b662765de3ae35e4dafa8e138c0ee51    El líder del PP, Pablo Casado, en una reunión por videoconferencia este viernes.DAVID MUDARRA / ...\n",
       "7eb4854a868197d198b054b6f9c32c61    El presidente del Eurogrupo, Mário Centeno, en Lisboa.PEDRO NUNES / ReutersLos ministros de Fina...\n",
       "                                                                                   ...                                                 \n",
       "5026607fa731297e719c611b8618ff35    Lo que sucedió este jueves en Venezuela es un reflejo de la paradoja que envuelve la disputa ent...\n",
       "f287060d0773a1e2309fcf9a317da9d9    ¿Quién dijo que no habría Semana Santa? Es lo que debieron pensar nueve mujeres de Porcuna (Jaén...\n",
       "bd66a24358fb2f6ae000d899282449f1    El fútbol es, quizás, lo único que los pobres arrebataron a los ricos. El juego nació, se reglam...\n",
       "035f4ee5d7efeec68652ac918176d65c    Italia ha registrado en las últimas 24 horas 681 muertos, lo que eleva los fallecidos a 15.362. ...\n",
       "c7f2fff180933b53918b8fc0baff55bf    Francia investiga como un posible acto terrorista el ataque con cuchillo que ha dejado este sába...\n",
       "Length: 53, dtype: object"
      ]
     },
     "execution_count": 23,
     "metadata": {},
     "output_type": "execute_result"
    }
   ],
   "source": [
    "stripped_body = (el_pais\n",
    "                     .apply(lambda row: row['body'], axis = 'columns')\n",
    "                     .apply(lambda body: list(body))\n",
    "                     .apply(lambda letters: list(map(lambda letter: letter.replace ('\\n',''), letters)))\n",
    "                     .apply(lambda letters_list: ''.join(letters_list))\n",
    "                     \n",
    "                )\n",
    "stripped_body\n",
    " "
   ]
  },
  {
   "cell_type": "code",
   "execution_count": 24,
   "metadata": {
    "scrolled": true
   },
   "outputs": [
    {
     "data": {
      "text/plain": [
       "uid\n",
       "db5585f97d0bd9a694f9700421f827ea    Se viven tiempos inéditos, encerrados en casa y con un tapabocas.La crisis sanitaria generada po...\n",
       "63f59524a1ed95fb800eb6fb6a5aee6d        googletag.cmd.push(function() {      googletag.display(\"dfp-ad-top3_content\");    });  Debid...\n",
       "e597625dae699d0b64037d5d9148415c        googletag.cmd.push(function() {      googletag.display(\"dfp-ad-top3_content\");    });  Un pa...\n",
       "2f3b2f91d58a2ca3cec5e958ec49afd7    Hoy, mientras estás en casa por la contingencia sanitaria y antes de irte a dormir, recuerda ade...\n",
       "f9c46896a6de43afa94292c87e926d3a    Ecatepec, Méx.- Con muchas flores y globos, así quiere despedir Adriana a su hijo, José Eduardo;...\n",
       "                                                                                   ...                                                 \n",
       "52b2876aba328b207979f248e05f835b    En la subida y en la vida las bicicletas y las economías tienen algo en común: ambas tienen que ...\n",
       "eee333388f1af62927ba60e9c3529c6c    La Policía Cibernética de la Secretaría de Seguridad Pública alertó sobre un correo electrónico ...\n",
       "f2d21a3d1cf30f277570fefde679e910     0 % PULSO SOCIAL0 La recomendación más frecuente ante la pandemia por coronavirus (Covid-19) es...\n",
       "4aba980bf64de2d94347b1a725df91bd    Todas las plazas comerciales y cerca de 80% de los comercios permanecerán cerrados durante la jo...\n",
       "286c85c2ce470817689cde189b3a6346    Si tienes una moto lo más probable es que te guste mantenerla en perfectas condiciones, pues más...\n",
       "Name: body, Length: 151, dtype: object"
      ]
     },
     "execution_count": 24,
     "metadata": {},
     "output_type": "execute_result"
    }
   ],
   "source": [
    "tag_regex = re.compile(r'\\n')\n",
    "for _ in range(0,len(el_universal['body'])):\n",
    "    el_universal['body'][_] = re.sub(tag_regex, '', el_universal['body'][_])\n",
    "el_universal['body']"
   ]
  },
  {
   "cell_type": "markdown",
   "metadata": {},
   "source": [
    "# Data enrichment"
   ]
  },
  {
   "cell_type": "code",
   "execution_count": 25,
   "metadata": {},
   "outputs": [
    {
     "name": "stderr",
     "output_type": "stream",
     "text": [
      "[nltk_data] Downloading package punkt to\n",
      "[nltk_data]     /home/eduardoubuntu/nltk_data...\n",
      "[nltk_data]   Package punkt is already up-to-date!\n",
      "[nltk_data] Downloading package stopwords to\n",
      "[nltk_data]     /home/eduardoubuntu/nltk_data...\n",
      "[nltk_data]   Package stopwords is already up-to-date!\n"
     ]
    },
    {
     "data": {
      "text/plain": [
       "True"
      ]
     },
     "execution_count": 25,
     "metadata": {},
     "output_type": "execute_result"
    }
   ],
   "source": [
    "# Tokenizing title and body\n",
    "import nltk\n",
    "from nltk.corpus import stopwords\n",
    "nltk.download('punkt')\n",
    "nltk.download('stopwords')"
   ]
  },
  {
   "cell_type": "code",
   "execution_count": 26,
   "metadata": {
    "scrolled": true
   },
   "outputs": [
    {
     "data": {
      "text/html": [
       "<div>\n",
       "<style scoped>\n",
       "    .dataframe tbody tr th:only-of-type {\n",
       "        vertical-align: middle;\n",
       "    }\n",
       "\n",
       "    .dataframe tbody tr th {\n",
       "        vertical-align: top;\n",
       "    }\n",
       "\n",
       "    .dataframe thead th {\n",
       "        text-align: right;\n",
       "    }\n",
       "</style>\n",
       "<table border=\"1\" class=\"dataframe\">\n",
       "  <thead>\n",
       "    <tr style=\"text-align: right;\">\n",
       "      <th></th>\n",
       "      <th>body</th>\n",
       "      <th>title</th>\n",
       "      <th>url</th>\n",
       "      <th>newspaper_uid</th>\n",
       "      <th>host</th>\n",
       "      <th>n_tokens_title</th>\n",
       "      <th>n_tokens_body</th>\n",
       "    </tr>\n",
       "    <tr>\n",
       "      <th>uid</th>\n",
       "      <th></th>\n",
       "      <th></th>\n",
       "      <th></th>\n",
       "      <th></th>\n",
       "      <th></th>\n",
       "      <th></th>\n",
       "      <th></th>\n",
       "    </tr>\n",
       "  </thead>\n",
       "  <tbody>\n",
       "    <tr>\n",
       "      <th>afea14977d484336ee39d71b9342b642</th>\n",
       "      <td>América concentra el 40% de la pandemia mundial frente a Europa que acumula más del 51%. Sin emb...</td>\n",
       "      <td>Coronavirus en América: últimas noticias del Covid-19, en vivo | Estados Unidos confirma más de ...</td>\n",
       "      <td>https://www.elpais.com/america/sociedad/2020-04-04/coronavirus-en-america-ultimas-noticias-del-c...</td>\n",
       "      <td>el_pais</td>\n",
       "      <td>www.elpais.com</td>\n",
       "      <td>9</td>\n",
       "      <td>5671</td>\n",
       "    </tr>\n",
       "    <tr>\n",
       "      <th>6477d5c45a7538c4a31a2bb3820eeccd</th>\n",
       "      <td>En febrero de 2019, el Papa se reunió con 190 miembros destacados de la Iglesia católica para ab...</td>\n",
       "      <td>La Iglesia católica de Colombia suspende a 19 sacerdotes por abuso sexual</td>\n",
       "      <td>https://www.elpais.com/sociedad/2020-04-04/la-iglesia-catolica-de-colombia-suspende-a-19-sacerdo...</td>\n",
       "      <td>el_pais</td>\n",
       "      <td>www.elpais.com</td>\n",
       "      <td>7</td>\n",
       "      <td>310</td>\n",
       "    </tr>\n",
       "    <tr>\n",
       "      <th>87cb95a5bd2be7a6243557ac3297783e</th>\n",
       "      <td>Bill Withers, el 26 de junio de 2006, cuando recibió un homenaje de la Rhythm &amp; Soul Music Award...</td>\n",
       "      <td>Bill Withers, la leyenda del ‘soul’ que prefirió callar</td>\n",
       "      <td>https://www.elpais.com/cultura/2020-04-03/muere-a-los-81-anos-bill-withers-autor-de-aint-no-suns...</td>\n",
       "      <td>el_pais</td>\n",
       "      <td>www.elpais.com</td>\n",
       "      <td>6</td>\n",
       "      <td>289</td>\n",
       "    </tr>\n",
       "    <tr>\n",
       "      <th>8b662765de3ae35e4dafa8e138c0ee51</th>\n",
       "      <td>El líder del PP, Pablo Casado, en una reunión por videoconferencia este viernes.DAVID MUDARRA / ...</td>\n",
       "      <td>El PP y Ciudadanos votarán a favor de la nueva prórroga del estado de alarma</td>\n",
       "      <td>https://www.elpais.com/espana/2020-04-04/el-pp-y-ciudadanos-votaran-a-favor-de-la-nueva-prorroga...</td>\n",
       "      <td>el_pais</td>\n",
       "      <td>www.elpais.com</td>\n",
       "      <td>7</td>\n",
       "      <td>314</td>\n",
       "    </tr>\n",
       "    <tr>\n",
       "      <th>7eb4854a868197d198b054b6f9c32c61</th>\n",
       "      <td>El presidente del Eurogrupo, Mário Centeno, en Lisboa.PEDRO NUNES / ReutersLos ministros de Fina...</td>\n",
       "      <td>“Los préstamos europeos deben evitar el estigma a los países y respetar el sufrimiento de los ci...</td>\n",
       "      <td>https://www.elpais.com/economia/2020-04-04/los-prestamos-europeos-deben-evitar-el-estigma-a-los-...</td>\n",
       "      <td>el_pais</td>\n",
       "      <td>www.elpais.com</td>\n",
       "      <td>9</td>\n",
       "      <td>665</td>\n",
       "    </tr>\n",
       "    <tr>\n",
       "      <th>...</th>\n",
       "      <td>...</td>\n",
       "      <td>...</td>\n",
       "      <td>...</td>\n",
       "      <td>...</td>\n",
       "      <td>...</td>\n",
       "      <td>...</td>\n",
       "      <td>...</td>\n",
       "    </tr>\n",
       "    <tr>\n",
       "      <th>5026607fa731297e719c611b8618ff35</th>\n",
       "      <td>Lo que sucedió este jueves en Venezuela es un reflejo de la paradoja que envuelve la disputa ent...</td>\n",
       "      <td>Guaidó desafía al chavismo al rechazar comparecer ante el fiscal y asegura que Maduro no frenará...</td>\n",
       "      <td>https://www.elpais.com/internacional/2020-04-03/guaido-desafia-al-chavismo-al-rechazar-comparece...</td>\n",
       "      <td>el_pais</td>\n",
       "      <td>www.elpais.com</td>\n",
       "      <td>10</td>\n",
       "      <td>339</td>\n",
       "    </tr>\n",
       "    <tr>\n",
       "      <th>f287060d0773a1e2309fcf9a317da9d9</th>\n",
       "      <td>¿Quién dijo que no habría Semana Santa? Es lo que debieron pensar nueve mujeres de Porcuna (Jaén...</td>\n",
       "      <td>Mil y una formas de burlar el confinamiento</td>\n",
       "      <td>https://www.elpais.com/espana/2020-04-04/mil-y-una-formas-de-burlar-el-confinamiento.html</td>\n",
       "      <td>el_pais</td>\n",
       "      <td>www.elpais.com</td>\n",
       "      <td>4</td>\n",
       "      <td>429</td>\n",
       "    </tr>\n",
       "    <tr>\n",
       "      <th>bd66a24358fb2f6ae000d899282449f1</th>\n",
       "      <td>El fútbol es, quizás, lo único que los pobres arrebataron a los ricos. El juego nació, se reglam...</td>\n",
       "      <td>Privilegiados, pero comprometidos</td>\n",
       "      <td>https://www.elpais.com/deportes/2020-04-03/privilegiados-pero-comprometidos.html</td>\n",
       "      <td>el_pais</td>\n",
       "      <td>www.elpais.com</td>\n",
       "      <td>2</td>\n",
       "      <td>61</td>\n",
       "    </tr>\n",
       "    <tr>\n",
       "      <th>035f4ee5d7efeec68652ac918176d65c</th>\n",
       "      <td>\\nItalia ha registrado en las últimas 24 horas 681 muertos, lo que eleva los fallecidos a 15.362...</td>\n",
       "      <td>Últimas noticias del coronavirus, en directo | Italia registra 681 muertes en 24 horas, el menor...</td>\n",
       "      <td>https://www.elpais.com/sociedad/2020-04-04/ultima-hora-y-noticias-del-coronavirus-en-directo.html</td>\n",
       "      <td>el_pais</td>\n",
       "      <td>www.elpais.com</td>\n",
       "      <td>12</td>\n",
       "      <td>4852</td>\n",
       "    </tr>\n",
       "    <tr>\n",
       "      <th>c7f2fff180933b53918b8fc0baff55bf</th>\n",
       "      <td>Francia investiga como un posible acto terrorista el ataque con cuchillo que ha dejado este sába...</td>\n",
       "      <td>Francia investiga como acto terrorista un ataque con cuchillo que ha causado dos muertos</td>\n",
       "      <td>https://www.elpais.com/internacional/2020-04-04/al-menos-dos-muertos-en-un-ataque-con-cuchillo-e...</td>\n",
       "      <td>el_pais</td>\n",
       "      <td>www.elpais.com</td>\n",
       "      <td>9</td>\n",
       "      <td>317</td>\n",
       "    </tr>\n",
       "  </tbody>\n",
       "</table>\n",
       "<p>53 rows × 7 columns</p>\n",
       "</div>"
      ],
      "text/plain": [
       "                                                                                                                                 body  \\\n",
       "uid                                                                                                                                     \n",
       "afea14977d484336ee39d71b9342b642  América concentra el 40% de la pandemia mundial frente a Europa que acumula más del 51%. Sin emb...   \n",
       "6477d5c45a7538c4a31a2bb3820eeccd  En febrero de 2019, el Papa se reunió con 190 miembros destacados de la Iglesia católica para ab...   \n",
       "87cb95a5bd2be7a6243557ac3297783e  Bill Withers, el 26 de junio de 2006, cuando recibió un homenaje de la Rhythm & Soul Music Award...   \n",
       "8b662765de3ae35e4dafa8e138c0ee51  El líder del PP, Pablo Casado, en una reunión por videoconferencia este viernes.DAVID MUDARRA / ...   \n",
       "7eb4854a868197d198b054b6f9c32c61  El presidente del Eurogrupo, Mário Centeno, en Lisboa.PEDRO NUNES / ReutersLos ministros de Fina...   \n",
       "...                                                                                                                               ...   \n",
       "5026607fa731297e719c611b8618ff35  Lo que sucedió este jueves en Venezuela es un reflejo de la paradoja que envuelve la disputa ent...   \n",
       "f287060d0773a1e2309fcf9a317da9d9  ¿Quién dijo que no habría Semana Santa? Es lo que debieron pensar nueve mujeres de Porcuna (Jaén...   \n",
       "bd66a24358fb2f6ae000d899282449f1  El fútbol es, quizás, lo único que los pobres arrebataron a los ricos. El juego nació, se reglam...   \n",
       "035f4ee5d7efeec68652ac918176d65c  \\nItalia ha registrado en las últimas 24 horas 681 muertos, lo que eleva los fallecidos a 15.362...   \n",
       "c7f2fff180933b53918b8fc0baff55bf  Francia investiga como un posible acto terrorista el ataque con cuchillo que ha dejado este sába...   \n",
       "\n",
       "                                                                                                                                title  \\\n",
       "uid                                                                                                                                     \n",
       "afea14977d484336ee39d71b9342b642  Coronavirus en América: últimas noticias del Covid-19, en vivo | Estados Unidos confirma más de ...   \n",
       "6477d5c45a7538c4a31a2bb3820eeccd                            La Iglesia católica de Colombia suspende a 19 sacerdotes por abuso sexual   \n",
       "87cb95a5bd2be7a6243557ac3297783e                                              Bill Withers, la leyenda del ‘soul’ que prefirió callar   \n",
       "8b662765de3ae35e4dafa8e138c0ee51                        El PP y Ciudadanos votarán a favor de la nueva prórroga del estado de alarma    \n",
       "7eb4854a868197d198b054b6f9c32c61  “Los préstamos europeos deben evitar el estigma a los países y respetar el sufrimiento de los ci...   \n",
       "...                                                                                                                               ...   \n",
       "5026607fa731297e719c611b8618ff35  Guaidó desafía al chavismo al rechazar comparecer ante el fiscal y asegura que Maduro no frenará...   \n",
       "f287060d0773a1e2309fcf9a317da9d9                                                         Mil y una formas de burlar el confinamiento    \n",
       "bd66a24358fb2f6ae000d899282449f1                                                                    Privilegiados, pero comprometidos   \n",
       "035f4ee5d7efeec68652ac918176d65c  Últimas noticias del coronavirus, en directo | Italia registra 681 muertes en 24 horas, el menor...   \n",
       "c7f2fff180933b53918b8fc0baff55bf          Francia investiga como acto terrorista un ataque con cuchillo que ha causado dos muertos      \n",
       "\n",
       "                                                                                                                                  url  \\\n",
       "uid                                                                                                                                     \n",
       "afea14977d484336ee39d71b9342b642  https://www.elpais.com/america/sociedad/2020-04-04/coronavirus-en-america-ultimas-noticias-del-c...   \n",
       "6477d5c45a7538c4a31a2bb3820eeccd  https://www.elpais.com/sociedad/2020-04-04/la-iglesia-catolica-de-colombia-suspende-a-19-sacerdo...   \n",
       "87cb95a5bd2be7a6243557ac3297783e  https://www.elpais.com/cultura/2020-04-03/muere-a-los-81-anos-bill-withers-autor-de-aint-no-suns...   \n",
       "8b662765de3ae35e4dafa8e138c0ee51  https://www.elpais.com/espana/2020-04-04/el-pp-y-ciudadanos-votaran-a-favor-de-la-nueva-prorroga...   \n",
       "7eb4854a868197d198b054b6f9c32c61  https://www.elpais.com/economia/2020-04-04/los-prestamos-europeos-deben-evitar-el-estigma-a-los-...   \n",
       "...                                                                                                                               ...   \n",
       "5026607fa731297e719c611b8618ff35  https://www.elpais.com/internacional/2020-04-03/guaido-desafia-al-chavismo-al-rechazar-comparece...   \n",
       "f287060d0773a1e2309fcf9a317da9d9            https://www.elpais.com/espana/2020-04-04/mil-y-una-formas-de-burlar-el-confinamiento.html   \n",
       "bd66a24358fb2f6ae000d899282449f1                     https://www.elpais.com/deportes/2020-04-03/privilegiados-pero-comprometidos.html   \n",
       "035f4ee5d7efeec68652ac918176d65c    https://www.elpais.com/sociedad/2020-04-04/ultima-hora-y-noticias-del-coronavirus-en-directo.html   \n",
       "c7f2fff180933b53918b8fc0baff55bf  https://www.elpais.com/internacional/2020-04-04/al-menos-dos-muertos-en-un-ataque-con-cuchillo-e...   \n",
       "\n",
       "                                 newspaper_uid            host  \\\n",
       "uid                                                              \n",
       "afea14977d484336ee39d71b9342b642       el_pais  www.elpais.com   \n",
       "6477d5c45a7538c4a31a2bb3820eeccd       el_pais  www.elpais.com   \n",
       "87cb95a5bd2be7a6243557ac3297783e       el_pais  www.elpais.com   \n",
       "8b662765de3ae35e4dafa8e138c0ee51       el_pais  www.elpais.com   \n",
       "7eb4854a868197d198b054b6f9c32c61       el_pais  www.elpais.com   \n",
       "...                                        ...             ...   \n",
       "5026607fa731297e719c611b8618ff35       el_pais  www.elpais.com   \n",
       "f287060d0773a1e2309fcf9a317da9d9       el_pais  www.elpais.com   \n",
       "bd66a24358fb2f6ae000d899282449f1       el_pais  www.elpais.com   \n",
       "035f4ee5d7efeec68652ac918176d65c       el_pais  www.elpais.com   \n",
       "c7f2fff180933b53918b8fc0baff55bf       el_pais  www.elpais.com   \n",
       "\n",
       "                                  n_tokens_title  n_tokens_body  \n",
       "uid                                                              \n",
       "afea14977d484336ee39d71b9342b642               9           5671  \n",
       "6477d5c45a7538c4a31a2bb3820eeccd               7            310  \n",
       "87cb95a5bd2be7a6243557ac3297783e               6            289  \n",
       "8b662765de3ae35e4dafa8e138c0ee51               7            314  \n",
       "7eb4854a868197d198b054b6f9c32c61               9            665  \n",
       "...                                          ...            ...  \n",
       "5026607fa731297e719c611b8618ff35              10            339  \n",
       "f287060d0773a1e2309fcf9a317da9d9               4            429  \n",
       "bd66a24358fb2f6ae000d899282449f1               2             61  \n",
       "035f4ee5d7efeec68652ac918176d65c              12           4852  \n",
       "c7f2fff180933b53918b8fc0baff55bf               9            317  \n",
       "\n",
       "[53 rows x 7 columns]"
      ]
     },
     "execution_count": 26,
     "metadata": {},
     "output_type": "execute_result"
    }
   ],
   "source": [
    "stop_words = set(stopwords.words('spanish'))\n",
    "pd.options.display.max_colwidth = 100\n",
    "\n",
    "def tokenize_column(df, column_name):\n",
    "    return (df\n",
    "            .dropna()\n",
    "            .apply(lambda row: nltk.word_tokenize(row[column_name]), axis='columns')\n",
    "            .apply(lambda tokens: list(filter(lambda token: token.isalpha(), tokens)))\n",
    "            .apply(lambda tokens: list(map(lambda token: token.lower(), tokens)))\n",
    "            .apply(lambda word_list: list(filter(lambda word: word not in stop_words, word_list)))\n",
    "            .apply(lambda valid_word_list: len(valid_word_list))\n",
    "            )\n",
    "el_pais['n_tokens_title'] = tokenize_column(el_pais, 'title')\n",
    "el_pais['n_tokens_body'] = tokenize_column(el_pais, 'body')\n",
    "el_pais"
   ]
  },
  {
   "cell_type": "markdown",
   "metadata": {},
   "source": [
    "# Duplicated values"
   ]
  },
  {
   "cell_type": "code",
   "execution_count": 27,
   "metadata": {
    "scrolled": true
   },
   "outputs": [
    {
     "data": {
      "text/plain": [
       "Sánchez anuncia nueva prórroga del estado de alarma en España           1\n",
       "Policías impiden acceso a panteones de Juchitán por Covid-19            1\n",
       "Casi 80% de los comercios permanecen cerrados                           1\n",
       "Mexicana cumple su sueño de jugar en el Estadio Olímpico de la UNAM     1\n",
       "Embargo de EU a Cuba evita que llegue ayuda humanitaria                 1\n",
       "                                                                       ..\n",
       "Luis Eduardo Aute, el artista que amó la pintura y la poesía            1\n",
       "Feria del Caballo Texcoco 2020 tiene nueva fecha                        1\n",
       "‘Chucky’ Lozano se harta de Gattuso, se ofrece al futbol de España      1\n",
       "Ante la adversidad, la solidaridad                                      1\n",
       "México y la paz global en tiempos de crisis                             1\n",
       "Name: title, Length: 124, dtype: int64"
      ]
     },
     "execution_count": 27,
     "metadata": {},
     "output_type": "execute_result"
    }
   ],
   "source": [
    "#Duplicating values\n",
    "#el_universal['title'][0] = 'Hola'\n",
    "#is_hol = el_universal['title'] == 'Hola'\n",
    "#df_try = el_universal[is_hol]\n",
    "#print(df_try)\n",
    "#el_universal = el_universal.append([df_try*10],ignore_index=True)\n",
    "\n",
    "#el_universal = el_universal.append([el_universal.iloc[0]*10],ignore_index=True)\n",
    "el_universal['title'].value_counts(sort = True)\n",
    "#len(el_universal['title'])"
   ]
  },
  {
   "cell_type": "code",
   "execution_count": 28,
   "metadata": {},
   "outputs": [
    {
     "data": {
      "text/html": [
       "<div>\n",
       "<style scoped>\n",
       "    .dataframe tbody tr th:only-of-type {\n",
       "        vertical-align: middle;\n",
       "    }\n",
       "\n",
       "    .dataframe tbody tr th {\n",
       "        vertical-align: top;\n",
       "    }\n",
       "\n",
       "    .dataframe thead th {\n",
       "        text-align: right;\n",
       "    }\n",
       "</style>\n",
       "<table border=\"1\" class=\"dataframe\">\n",
       "  <thead>\n",
       "    <tr style=\"text-align: right;\">\n",
       "      <th></th>\n",
       "      <th>body</th>\n",
       "      <th>title</th>\n",
       "      <th>url</th>\n",
       "      <th>newspaper_uid</th>\n",
       "      <th>host</th>\n",
       "    </tr>\n",
       "    <tr>\n",
       "      <th>uid</th>\n",
       "      <th></th>\n",
       "      <th></th>\n",
       "      <th></th>\n",
       "      <th></th>\n",
       "      <th></th>\n",
       "    </tr>\n",
       "  </thead>\n",
       "  <tbody>\n",
       "  </tbody>\n",
       "</table>\n",
       "</div>"
      ],
      "text/plain": [
       "Empty DataFrame\n",
       "Columns: [body, title, url, newspaper_uid, host]\n",
       "Index: []"
      ]
     },
     "execution_count": 28,
     "metadata": {},
     "output_type": "execute_result"
    }
   ],
   "source": [
    "# Dropping duplicated values\n",
    "el_universal[el_universal['title'] == 'HolaHolaHolaHolaHolaHolaHolaHolaHolaHola']"
   ]
  },
  {
   "cell_type": "code",
   "execution_count": 29,
   "metadata": {},
   "outputs": [],
   "source": [
    "el_universal.drop_duplicates(subset=['title'],keep = 'first', inplace=True)"
   ]
  },
  {
   "cell_type": "markdown",
   "metadata": {},
   "source": [
    "# Final Table"
   ]
  },
  {
   "cell_type": "code",
   "execution_count": 30,
   "metadata": {},
   "outputs": [
    {
     "data": {
      "text/plain": [
       "Sánchez anuncia nueva prórroga del estado de alarma en España           1\n",
       "Policías impiden acceso a panteones de Juchitán por Covid-19            1\n",
       "Casi 80% de los comercios permanecen cerrados                           1\n",
       "Mexicana cumple su sueño de jugar en el Estadio Olímpico de la UNAM     1\n",
       "Embargo de EU a Cuba evita que llegue ayuda humanitaria                 1\n",
       "                                                                       ..\n",
       "Luis Eduardo Aute, el artista que amó la pintura y la poesía            1\n",
       "Feria del Caballo Texcoco 2020 tiene nueva fecha                        1\n",
       "‘Chucky’ Lozano se harta de Gattuso, se ofrece al futbol de España      1\n",
       "Ante la adversidad, la solidaridad                                      1\n",
       "México y la paz global en tiempos de crisis                             1\n",
       "Name: title, Length: 124, dtype: int64"
      ]
     },
     "execution_count": 30,
     "metadata": {},
     "output_type": "execute_result"
    }
   ],
   "source": [
    "el_universal['title'].value_counts()"
   ]
  },
  {
   "cell_type": "markdown",
   "metadata": {},
   "source": [
    "# Descriptive Analysis"
   ]
  },
  {
   "cell_type": "code",
   "execution_count": 31,
   "metadata": {},
   "outputs": [
    {
     "data": {
      "text/html": [
       "<div>\n",
       "<style scoped>\n",
       "    .dataframe tbody tr th:only-of-type {\n",
       "        vertical-align: middle;\n",
       "    }\n",
       "\n",
       "    .dataframe tbody tr th {\n",
       "        vertical-align: top;\n",
       "    }\n",
       "\n",
       "    .dataframe thead th {\n",
       "        text-align: right;\n",
       "    }\n",
       "</style>\n",
       "<table border=\"1\" class=\"dataframe\">\n",
       "  <thead>\n",
       "    <tr style=\"text-align: right;\">\n",
       "      <th></th>\n",
       "      <th>n_tokens_title</th>\n",
       "      <th>n_tokens_body</th>\n",
       "    </tr>\n",
       "  </thead>\n",
       "  <tbody>\n",
       "    <tr>\n",
       "      <th>count</th>\n",
       "      <td>53.000000</td>\n",
       "      <td>53.000000</td>\n",
       "    </tr>\n",
       "    <tr>\n",
       "      <th>mean</th>\n",
       "      <td>6.886792</td>\n",
       "      <td>680.811321</td>\n",
       "    </tr>\n",
       "    <tr>\n",
       "      <th>std</th>\n",
       "      <td>2.812475</td>\n",
       "      <td>986.176748</td>\n",
       "    </tr>\n",
       "    <tr>\n",
       "      <th>min</th>\n",
       "      <td>2.000000</td>\n",
       "      <td>41.000000</td>\n",
       "    </tr>\n",
       "    <tr>\n",
       "      <th>25%</th>\n",
       "      <td>5.000000</td>\n",
       "      <td>317.000000</td>\n",
       "    </tr>\n",
       "    <tr>\n",
       "      <th>50%</th>\n",
       "      <td>7.000000</td>\n",
       "      <td>429.000000</td>\n",
       "    </tr>\n",
       "    <tr>\n",
       "      <th>75%</th>\n",
       "      <td>9.000000</td>\n",
       "      <td>665.000000</td>\n",
       "    </tr>\n",
       "    <tr>\n",
       "      <th>max</th>\n",
       "      <td>14.000000</td>\n",
       "      <td>5671.000000</td>\n",
       "    </tr>\n",
       "  </tbody>\n",
       "</table>\n",
       "</div>"
      ],
      "text/plain": [
       "       n_tokens_title  n_tokens_body\n",
       "count       53.000000      53.000000\n",
       "mean         6.886792     680.811321\n",
       "std          2.812475     986.176748\n",
       "min          2.000000      41.000000\n",
       "25%          5.000000     317.000000\n",
       "50%          7.000000     429.000000\n",
       "75%          9.000000     665.000000\n",
       "max         14.000000    5671.000000"
      ]
     },
     "execution_count": 31,
     "metadata": {},
     "output_type": "execute_result"
    }
   ],
   "source": [
    "clean_el_pais = pd.read_csv('cleaned_elpais_2020_04_04_articles.csv')\n",
    "clean_el_universal = pd.read_csv('cleaned_eluniversal_2020_04_04_articles.csv')\n",
    "\n",
    "clean_el_universal.describe()\n",
    "clean_el_pais.describe()"
   ]
  },
  {
   "cell_type": "code",
   "execution_count": 32,
   "metadata": {
    "scrolled": true
   },
   "outputs": [
    {
     "data": {
      "text/html": [
       "<div>\n",
       "<style scoped>\n",
       "    .dataframe tbody tr th:only-of-type {\n",
       "        vertical-align: middle;\n",
       "    }\n",
       "\n",
       "    .dataframe tbody tr th {\n",
       "        vertical-align: top;\n",
       "    }\n",
       "\n",
       "    .dataframe thead th {\n",
       "        text-align: right;\n",
       "    }\n",
       "</style>\n",
       "<table border=\"1\" class=\"dataframe\">\n",
       "  <thead>\n",
       "    <tr style=\"text-align: right;\">\n",
       "      <th></th>\n",
       "      <th>uid</th>\n",
       "      <th>body</th>\n",
       "      <th>title</th>\n",
       "      <th>url</th>\n",
       "      <th>newspaper</th>\n",
       "      <th>host</th>\n",
       "      <th>n_tokens_title</th>\n",
       "      <th>n_tokens_body</th>\n",
       "    </tr>\n",
       "  </thead>\n",
       "  <tbody>\n",
       "    <tr>\n",
       "      <th>9</th>\n",
       "      <td>095c8dcac9ffab9c27fc15890a0d58d3</td>\n",
       "      <td>El presidente Donald Trump, durante una rueda de prensa en Whasington.Europa PressA lo largo de ...</td>\n",
       "      <td>La recesión de la Covid-19 ya está aquí</td>\n",
       "      <td>https://www.elpais.com/economia/negocio/2020-04-03/la-recesion-de-la-covid-19-ya-esta-aqui.html</td>\n",
       "      <td>elpais</td>\n",
       "      <td>www.elpais.com</td>\n",
       "      <td>2</td>\n",
       "      <td>41</td>\n",
       "    </tr>\n",
       "    <tr>\n",
       "      <th>18</th>\n",
       "      <td>8005741094ae520627269dcc3d0a9475</td>\n",
       "      <td>Un hombre con mascarilla camina frente a un restaurante cerrado en Madrid el 2 de abril.GABRIEL ...</td>\n",
       "      <td>El día después</td>\n",
       "      <td>https://www.elpais.com/estilo/gastronomia/2020-04-02/el-dia-despues.html</td>\n",
       "      <td>elpais</td>\n",
       "      <td>www.elpais.com</td>\n",
       "      <td>2</td>\n",
       "      <td>359</td>\n",
       "    </tr>\n",
       "    <tr>\n",
       "      <th>24</th>\n",
       "      <td>92cf0a56372f8e93b368c1a5b2dbabd0</td>\n",
       "      <td>El 31 de diciembre de 2019, China informó de un caso de neumonía de causa desconocida detectada ...</td>\n",
       "      <td>El antes y el después de Wuhan</td>\n",
       "      <td>https://www.elpais.com/sociedad/2020-04-03/el-antes-y-el-despues-de-wuhan.html</td>\n",
       "      <td>elpais</td>\n",
       "      <td>www.elpais.com</td>\n",
       "      <td>2</td>\n",
       "      <td>217</td>\n",
       "    </tr>\n",
       "    <tr>\n",
       "      <th>50</th>\n",
       "      <td>bd66a24358fb2f6ae000d899282449f1</td>\n",
       "      <td>El fútbol es, quizás, lo único que los pobres arrebataron a los ricos. El juego nació, se reglam...</td>\n",
       "      <td>Privilegiados, pero comprometidos</td>\n",
       "      <td>https://www.elpais.com/deportes/2020-04-03/privilegiados-pero-comprometidos.html</td>\n",
       "      <td>elpais</td>\n",
       "      <td>www.elpais.com</td>\n",
       "      <td>2</td>\n",
       "      <td>61</td>\n",
       "    </tr>\n",
       "  </tbody>\n",
       "</table>\n",
       "</div>"
      ],
      "text/plain": [
       "                                 uid  \\\n",
       "9   095c8dcac9ffab9c27fc15890a0d58d3   \n",
       "18  8005741094ae520627269dcc3d0a9475   \n",
       "24  92cf0a56372f8e93b368c1a5b2dbabd0   \n",
       "50  bd66a24358fb2f6ae000d899282449f1   \n",
       "\n",
       "                                                                                                   body  \\\n",
       "9   El presidente Donald Trump, durante una rueda de prensa en Whasington.Europa PressA lo largo de ...   \n",
       "18  Un hombre con mascarilla camina frente a un restaurante cerrado en Madrid el 2 de abril.GABRIEL ...   \n",
       "24  El 31 de diciembre de 2019, China informó de un caso de neumonía de causa desconocida detectada ...   \n",
       "50  El fútbol es, quizás, lo único que los pobres arrebataron a los ricos. El juego nació, se reglam...   \n",
       "\n",
       "                                      title  \\\n",
       "9   La recesión de la Covid-19 ya está aquí   \n",
       "18                           El día después   \n",
       "24           El antes y el después de Wuhan   \n",
       "50        Privilegiados, pero comprometidos   \n",
       "\n",
       "                                                                                                url  \\\n",
       "9   https://www.elpais.com/economia/negocio/2020-04-03/la-recesion-de-la-covid-19-ya-esta-aqui.html   \n",
       "18                         https://www.elpais.com/estilo/gastronomia/2020-04-02/el-dia-despues.html   \n",
       "24                   https://www.elpais.com/sociedad/2020-04-03/el-antes-y-el-despues-de-wuhan.html   \n",
       "50                 https://www.elpais.com/deportes/2020-04-03/privilegiados-pero-comprometidos.html   \n",
       "\n",
       "   newspaper            host  n_tokens_title  n_tokens_body  \n",
       "9     elpais  www.elpais.com               2             41  \n",
       "18    elpais  www.elpais.com               2            359  \n",
       "24    elpais  www.elpais.com               2            217  \n",
       "50    elpais  www.elpais.com               2             61  "
      ]
     },
     "execution_count": 32,
     "metadata": {},
     "output_type": "execute_result"
    }
   ],
   "source": [
    "clean_el_pais.loc[clean_el_pais['n_tokens_title'] == 2]"
   ]
  },
  {
   "cell_type": "code",
   "execution_count": 33,
   "metadata": {},
   "outputs": [],
   "source": [
    "%matplotlib inline"
   ]
  },
  {
   "cell_type": "code",
   "execution_count": 34,
   "metadata": {},
   "outputs": [
    {
     "data": {
      "text/plain": [
       "<matplotlib.axes._subplots.AxesSubplot at 0x7f0e301bc890>"
      ]
     },
     "execution_count": 34,
     "metadata": {},
     "output_type": "execute_result"
    },
    {
     "data": {
      "image/png": "[encoded data removed]",
      "text/plain": [
       "<Figure size 432x288 with 1 Axes>"
      ]
     },
     "metadata": {
      "needs_background": "light"
     },
     "output_type": "display_data"
    }
   ],
   "source": [
    "#clean_el_pais['n_tokens_title'].plot(style='k.')\n",
    "#clean_el_universal['n_tokens_title'].plot(style='r.')\n",
    "clean_el_pais['n_tokens_body'].plot(style='k.')\n",
    "clean_el_universal['n_tokens_body'].plot(style='r.')\n",
    " "
   ]
  },
  {
   "cell_type": "code",
   "execution_count": 45,
   "metadata": {},
   "outputs": [
    {
     "data": {
      "text/plain": [
       "newspaper\n",
       "elpais         [[AxesSubplot(0.125,0.125;0.336957x0.755), AxesSubplot(0.563043,0.125;0.336957x0.755)]]\n",
       "eluniversal    [[AxesSubplot(0.125,0.125;0.336957x0.755), AxesSubplot(0.563043,0.125;0.336957x0.755)]]\n",
       "dtype: object"
      ]
     },
     "execution_count": 45,
     "metadata": {},
     "output_type": "execute_result"
    },
    {
     "data": {
      "image/png": "[encoded data removed]",
      "text/plain": [
       "<Figure size 432x288 with 2 Axes>"
      ]
     },
     "metadata": {
      "needs_background": "light"
     },
     "output_type": "display_data"
    },
    {
     "data": {
      "image/png": "[encoded data removed]",
      "text/plain": [
       "<Figure size 432x288 with 2 Axes>"
      ]
     },
     "metadata": {
      "needs_background": "light"
     },
     "output_type": "display_data"
    }
   ],
   "source": [
    "all_newspapers = pd.concat([clean_el_pais, clean_el_universal])\n",
    "grouped = all_newspapers.groupby(['newspaper'])\n",
    "grouped.hist()\n"
   ]
  },
  {
   "cell_type": "code",
   "execution_count": 48,
   "metadata": {},
   "outputs": [
    {
     "data": {
      "text/html": [
       "<div>\n",
       "<style scoped>\n",
       "    .dataframe tbody tr th:only-of-type {\n",
       "        vertical-align: middle;\n",
       "    }\n",
       "\n",
       "    .dataframe tbody tr th {\n",
       "        vertical-align: top;\n",
       "    }\n",
       "\n",
       "    .dataframe thead th {\n",
       "        text-align: right;\n",
       "    }\n",
       "</style>\n",
       "<table border=\"1\" class=\"dataframe\">\n",
       "  <thead>\n",
       "    <tr style=\"text-align: right;\">\n",
       "      <th></th>\n",
       "      <th>min</th>\n",
       "      <th>mean</th>\n",
       "      <th>max</th>\n",
       "    </tr>\n",
       "    <tr>\n",
       "      <th>newspaper</th>\n",
       "      <th></th>\n",
       "      <th></th>\n",
       "      <th></th>\n",
       "    </tr>\n",
       "  </thead>\n",
       "  <tbody>\n",
       "    <tr>\n",
       "      <th>elpais</th>\n",
       "      <td>41</td>\n",
       "      <td>680.811321</td>\n",
       "      <td>5671</td>\n",
       "    </tr>\n",
       "    <tr>\n",
       "      <th>eluniversal</th>\n",
       "      <td>7</td>\n",
       "      <td>300.615894</td>\n",
       "      <td>1388</td>\n",
       "    </tr>\n",
       "  </tbody>\n",
       "</table>\n",
       "</div>"
      ],
      "text/plain": [
       "             min        mean   max\n",
       "newspaper                         \n",
       "elpais        41  680.811321  5671\n",
       "eluniversal    7  300.615894  1388"
      ]
     },
     "execution_count": 48,
     "metadata": {},
     "output_type": "execute_result"
    }
   ],
   "source": [
    "grouped['n_tokens_body'].agg(['min', 'mean','max'])"
   ]
  },
  {
   "cell_type": "code",
   "execution_count": 50,
   "metadata": {},
   "outputs": [
    {
     "data": {
      "text/plain": [
       "newspaper\n",
       "elpais         AxesSubplot(0.125,0.125;0.775x0.755)\n",
       "eluniversal    AxesSubplot(0.125,0.125;0.775x0.755)\n",
       "dtype: object"
      ]
     },
     "execution_count": 50,
     "metadata": {},
     "output_type": "execute_result"
    },
    {
     "data": {
      "image/png": "[encoded data removed]",
      "text/plain": [
       "<Figure size 432x288 with 1 Axes>"
      ]
     },
     "metadata": {
      "needs_background": "light"
     },
     "output_type": "display_data"
    },
    {
     "data": {
      "image/png": "[encoded data removed]",
      "text/plain": [
       "<Figure size 432x288 with 1 Axes>"
      ]
     },
     "metadata": {
      "needs_background": "light"
     },
     "output_type": "display_data"
    }
   ],
   "source": [
    "grouped.plot()"
   ]
  }
 ],
 "metadata": {
  "kernelspec": {
   "display_name": "Python 3.7.6 64-bit ('base': conda)",
   "language": "python",
   "name": "python37664bitbasecondaefbf0c1452014b86a9a19422c1d2ffa8"
  },
  "language_info": {
   "codemirror_mode": {
    "name": "ipython",
    "version": 3
   },
   "file_extension": ".py",
   "mimetype": "text/x-python",
   "name": "python",
   "nbconvert_exporter": "python",
   "pygments_lexer": "ipython3",
   "version": "3.7.6"
  }
 },
 "nbformat": 4,
 "nbformat_minor": 4
}
